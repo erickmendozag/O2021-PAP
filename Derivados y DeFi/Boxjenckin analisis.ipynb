{
 "cells": [
  {
   "cell_type": "code",
   "execution_count": 25,
   "metadata": {},
   "outputs": [],
   "source": [
    "import numpy as np\n",
    "from pandas_datareader import data as wb\n",
    "import pandas as pd\n",
    "import matplotlib.pyplot as plt\n",
    "import numpy as np\n",
    "import matplotlib.pyplot as plt\n",
    "import seaborn as sns\n",
    "import yfinance\n",
    "import scipy.stats\n",
    "import pylab\n",
    "import ccxt\n",
    "import calendar\n",
    "from datetime import datetime, date, timedelta\n",
    "\n",
    "#import statsmodels.graphics.tsaplots as sgt\n",
    "#from statsmodels.tsa.arima_model import ARMA\n",
    "#from scipy.stats.distributions import chi2\n",
    "#import statsmodels.tsa.stattools as sts \n",
    "import warnings\n",
    "warnings.filterwarnings(\"ignore\")\n",
    "sns.set()"
   ]
  },
  {
   "cell_type": "code",
   "execution_count": 26,
   "metadata": {},
   "outputs": [],
   "source": [
    "\n",
    "\n",
    "binance = ccxt.binance()\n",
    "\n",
    "def min_ohlcv(dt, pair, limit):\n",
    "    # UTC native object\n",
    "    since = calendar.timegm(dt.utctimetuple())*1000\n",
    "    ohlcv1 = binance.fetch_ohlcv(symbol=pair, timeframe='1m', since=since, limit=limit)\n",
    "    ohlcv2 = binance.fetch_ohlcv(symbol=pair, timeframe='1m', since=since, limit=limit)\n",
    "    ohlcv = ohlcv1 + ohlcv2\n",
    "    return ohlcv\n",
    "\n"
   ]
  },
  {
   "cell_type": "code",
   "execution_count": 27,
   "metadata": {},
   "outputs": [],
   "source": [
    "def ohlcv(dt, pair, period='1d'):\n",
    "    ohlcv = []\n",
    "    limit = 1000\n",
    "    if period == '1m':\n",
    "        limit = 720\n",
    "    elif period == '1d':\n",
    "        limit = 365\n",
    "    elif period == '1h':\n",
    "        limit = 24\n",
    "    elif period == '5m':\n",
    "        limit = 288\n",
    "    for i in dt:\n",
    "        start_dt = datetime.strptime(i, \"%Y%m%d\")\n",
    "        since = calendar.timegm(start_dt.utctimetuple())*1000\n",
    "        if period == '1m':\n",
    "            ohlcv.extend(min_ohlcv(start_dt, pair, limit))\n",
    "        else:\n",
    "            ohlcv.extend(binance.fetch_ohlcv(symbol=pair, timeframe=period, since=since, limit=limit))\n",
    "    df = pd.DataFrame(ohlcv, columns = ['Time', 'Open', 'High', 'Low', 'Close', 'Volume'])\n",
    "    df['Time'] = [datetime.fromtimestamp(float(time)/1000) for time in df['Time']]\n",
    "    df['Open'] = df['Open'].astype(np.float64)\n",
    "    df['High'] = df['High'].astype(np.float64)\n",
    "    df['Low'] = df['Low'].astype(np.float64)\n",
    "    df['Close'] = df['Close'].astype(np.float64)\n",
    "    df['Volume'] = df['Volume'].astype(np.float64)\n",
    "    df.set_index('Time', inplace=True)\n",
    "    return df\n"
   ]
  },
  {
   "cell_type": "code",
   "execution_count": 28,
   "metadata": {},
   "outputs": [],
   "source": [
    "dt = ['20201001', '20211001']\n",
    "df = ohlcv(dt, 'BTC/USDT', '1d')"
   ]
  },
  {
   "cell_type": "code",
   "execution_count": 29,
   "metadata": {},
   "outputs": [],
   "source": [
    "BTC=df.iloc[:,3]"
   ]
  },
  {
   "cell_type": "code",
   "execution_count": 30,
   "metadata": {},
   "outputs": [
    {
     "data": {
      "text/plain": [
       "Time\n",
       "2020-09-30 19:00:00    10619.13\n",
       "2020-10-01 19:00:00    10570.40\n",
       "2020-10-02 19:00:00    10542.06\n",
       "2020-10-03 19:00:00    10666.63\n",
       "2020-10-04 19:00:00    10792.21\n",
       "                         ...   \n",
       "2021-09-30 19:00:00    48141.61\n",
       "2021-10-01 19:00:00    47634.90\n",
       "2021-10-02 19:00:00    48200.01\n",
       "2021-10-03 19:00:00    49224.94\n",
       "2021-10-04 19:00:00    49190.49\n",
       "Name: Close, Length: 370, dtype: float64"
      ]
     },
     "execution_count": 30,
     "metadata": {},
     "output_type": "execute_result"
    }
   ],
   "source": [
    "BTC"
   ]
  },
  {
   "cell_type": "code",
   "execution_count": 23,
   "metadata": {},
   "outputs": [],
   "source": [
    "def get_tickets_close(tickets):\n",
    "    info = yfinance.download(tickers = tickets, interval ='1d',start='2016-01-01', end ='2021-09-09', groub_by = 'ticker',auto_adjust = True, treads = True)['Close']\n",
    "    return info"
   ]
  },
  {
   "cell_type": "code",
   "execution_count": null,
   "metadata": {},
   "outputs": [
    {
     "name": "stderr",
     "output_type": "stream",
     "text": [
      "Exception in thread Thread-6:\n",
      "Traceback (most recent call last):\n",
      "  File \"C:\\Users\\Juan Pablo\\Anaconda3\\lib\\threading.py\", line 917, in _bootstrap_inner\n",
      "    self.run()\n",
      "  File \"C:\\Users\\Juan Pablo\\Anaconda3\\lib\\threading.py\", line 865, in run\n",
      "    self._target(*self._args, **self._kwargs)\n",
      "  File \"C:\\Users\\Juan Pablo\\Anaconda3\\lib\\site-packages\\multitasking\\__init__.py\", line 102, in _run_via_pool\n",
      "    return callee(*args, **kwargs)\n",
      "  File \"C:\\Users\\Juan Pablo\\Anaconda3\\lib\\site-packages\\yfinance\\multi.py\", line 167, in _download_one_threaded\n",
      "    actions, period, interval, prepost, proxy, rounding)\n",
      "  File \"C:\\Users\\Juan Pablo\\Anaconda3\\lib\\site-packages\\yfinance\\multi.py\", line 182, in _download_one\n",
      "    rounding=rounding, many=True)\n",
      "  File \"C:\\Users\\Juan Pablo\\Anaconda3\\lib\\site-packages\\yfinance\\base.py\", line 156, in history\n",
      "    data = data.json()\n",
      "  File \"C:\\Users\\Juan Pablo\\Anaconda3\\lib\\site-packages\\requests\\models.py\", line 897, in json\n",
      "    return complexjson.loads(self.text, **kwargs)\n",
      "  File \"C:\\Users\\Juan Pablo\\Anaconda3\\lib\\json\\__init__.py\", line 348, in loads\n",
      "    return _default_decoder.decode(s)\n",
      "  File \"C:\\Users\\Juan Pablo\\Anaconda3\\lib\\json\\decoder.py\", line 337, in decode\n",
      "    obj, end = self.raw_decode(s, idx=_w(s, 0).end())\n",
      "  File \"C:\\Users\\Juan Pablo\\Anaconda3\\lib\\json\\decoder.py\", line 355, in raw_decode\n",
      "    raise JSONDecodeError(\"Expecting value\", s, err.value) from None\n",
      "json.decoder.JSONDecodeError: Expecting value: line 1 column 1 (char 0)\n",
      "\n"
     ]
    }
   ],
   "source": [
    "BTC = [\"BTC-USD\"]\n",
    "BTC = get_tickets_close(BTC)\n",
    "BTC.tail()"
   ]
  },
  {
   "cell_type": "code",
   "execution_count": 31,
   "metadata": {},
   "outputs": [
    {
     "data": {
      "image/png": "[encoded data removed]",
      "text/plain": [
       "<Figure size 1440x360 with 1 Axes>"
      ]
     },
     "metadata": {},
     "output_type": "display_data"
    }
   ],
   "source": [
    "BTC.plot(figsize=(20,5))\n",
    "plt.show()"
   ]
  },
  {
   "cell_type": "code",
   "execution_count": 32,
   "metadata": {},
   "outputs": [
    {
     "data": {
      "image/png": "[encoded data removed]",
      "text/plain": [
       "<Figure size 432x288 with 1 Axes>"
      ]
     },
     "metadata": {},
     "output_type": "display_data"
    }
   ],
   "source": [
    "scipy.stats.probplot(BTC, plot = pylab)\n",
    "pylab.show()"
   ]
  },
  {
   "cell_type": "markdown",
   "metadata": {},
   "source": [
    "# AR analisis"
   ]
  },
  {
   "cell_type": "code",
   "execution_count": 43,
   "metadata": {},
   "outputs": [
    {
     "data": {
      "text/plain": [
       "<matplotlib.axes._subplots.AxesSubplot at 0x1bac2ab70f0>"
      ]
     },
     "execution_count": 43,
     "metadata": {},
     "output_type": "execute_result"
    },
    {
     "data": {
      "image/png": "[encoded data removed]",
      "text/plain": [
       "<Figure size 432x288 with 1 Axes>"
      ]
     },
     "metadata": {},
     "output_type": "display_data"
    }
   ],
   "source": [
    "pd.plotting.autocorrelation_plot(BTC, ax = None)"
   ]
  },
  {
   "cell_type": "markdown",
   "metadata": {},
   "source": [
    "## The ACF"
   ]
  },
  {
   "cell_type": "code",
   "execution_count": 47,
   "metadata": {},
   "outputs": [],
   "source": [
    "from matplotlib import pyplot"
   ]
  },
  {
   "cell_type": "code",
   "execution_count": 49,
   "metadata": {},
   "outputs": [
    {
     "data": {
      "image/png": "[encoded data removed]",
      "text/plain": [
       "<Figure size 432x288 with 1 Axes>"
      ]
     },
     "metadata": {},
     "output_type": "display_data"
    }
   ],
   "source": [
    "BTC.plot()\n",
    "pyplot.show()"
   ]
  },
  {
   "cell_type": "code",
   "execution_count": 68,
   "metadata": {},
   "outputs": [
    {
     "data": {
      "image/png": "[encoded data removed]",
      "text/plain": [
       "<Figure size 800x575 with 4 Axes>"
      ]
     },
     "metadata": {},
     "output_type": "display_data"
    }
   ],
   "source": [
    "from binance.client import Client\n",
    "\n",
    "import matplotlib.animation as animation\n",
    "import mplfinance as mpf\n",
    "import pandas as pd\n",
    "import numpy as np\n",
    "\n",
    "api_key    = 'xxxxxxxxxxxxxxxxxxxxxxxxx'\n",
    "api_secret = 'xxxxxxxxxxxxxxxxxxxxxxxxx'\n",
    "\n",
    "crypto = 'BTCUSDT'\n",
    "kline_interval = Client.KLINE_INTERVAL_1MINUTE\n",
    "\n",
    "client = Client(api_key, api_secret)\n",
    "klines = client.get_historical_klines(crypto, kline_interval, \"1 hour ago UTC\")\n",
    "\n",
    "df = pd.DataFrame(klines,  columns=['Date',\n",
    "                                    'Open',\n",
    "                                    'High',\n",
    "                                    'Low',\n",
    "                                    'Close',\n",
    "                                    'Volume',\n",
    "                                    'Close time',\n",
    "                                    'Quote asset volume',\n",
    "                                    'Number of trades',\n",
    "                                    'Taker buy base asset volume',\n",
    "                                    'Taker buy quote asset volume',\n",
    "                                    'Ignore'])\n",
    "\n",
    "df = df.drop(df.columns[[6, 7, 8, 9, 10, 11]], axis=1)\n",
    "df['Date'] = pd.to_datetime(df['Date'], unit='ms')\n",
    "df.set_index('Date', inplace=True, drop=True)\n",
    "\n",
    "df['Open']   = df['Open'].astype(float)\n",
    "df['High']   = df['High'].astype(float)\n",
    "df['Low']    = df['Low'].astype(float)\n",
    "df['Close']  = df['Close'].astype(float)\n",
    "df['Volume'] = df['Volume'].astype(float)\n",
    "\n",
    "pkwargs=dict(type='candle', style='binance')\n",
    "fig, axes = mpf.plot(df, title='Bitcoin Price in Binance', volume=True, returnfig=True, **pkwargs)\n",
    "\n",
    "ax1 = axes[0]\n",
    "ax2 = axes[2]\n",
    "\n",
    "def animate(ival):\n",
    "\n",
    "    candle = client.get_klines(symbol=crypto, interval=kline_interval, limit=1)\n",
    "\n",
    "    c_open  = float(candle[0][1])\n",
    "    c_high  = float(candle[0][2])\n",
    "    c_low   = float(candle[0][3])\n",
    "    c_close = float(candle[0][4])\n",
    "    c_vol   = float(candle[0][5])\n",
    "    \n",
    "    df2 = pd.DataFrame({'Date':[candle[0][0]], 'Open':[c_open],'High':[c_high],'Low':[c_low],'Close':[c_close],'Volume':[c_vol]})\n",
    "    df2['Date'] = pd.to_datetime(df2['Date'], unit='ms')\n",
    "    df2.set_index('Date', inplace=True, drop=True)\n",
    "\n",
    "    global df\n",
    "\n",
    "    if df.last_valid_index() != df2.last_valid_index():\n",
    "        data = pd.concat([df.iloc[1:], df2], ignore_index = False) \n",
    "        df = data\n",
    "    else:\n",
    "        data = df    \n",
    "        data.iloc[-1, data.columns.get_loc('Open')]   = c_open\n",
    "        data.iloc[-1, data.columns.get_loc('High')]   = c_high\n",
    "        data.iloc[-1, data.columns.get_loc('Low')]    = c_low\n",
    "        data.iloc[-1, data.columns.get_loc('Close')]  = c_close\n",
    "        data.iloc[-1, data.columns.get_loc('Volume')] = c_vol\n",
    "    \n",
    "    ax1.clear()\n",
    "    ax2.clear()\n",
    "\n",
    "    mpf.plot(data, ax=ax1,volume=ax2,**pkwargs)\n",
    "\n",
    "ani = animation.FuncAnimation(fig, animate, interval=250)\n",
    "\n",
    "mpf.show()"
   ]
  },
  {
   "cell_type": "code",
   "execution_count": 71,
   "metadata": {},
   "outputs": [
    {
     "data": {
      "text/html": [
       "<div>\n",
       "<style scoped>\n",
       "    .dataframe tbody tr th:only-of-type {\n",
       "        vertical-align: middle;\n",
       "    }\n",
       "\n",
       "    .dataframe tbody tr th {\n",
       "        vertical-align: top;\n",
       "    }\n",
       "\n",
       "    .dataframe thead th {\n",
       "        text-align: right;\n",
       "    }\n",
       "</style>\n",
       "<table border=\"1\" class=\"dataframe\">\n",
       "  <thead>\n",
       "    <tr style=\"text-align: right;\">\n",
       "      <th></th>\n",
       "      <th>Open</th>\n",
       "      <th>High</th>\n",
       "      <th>Low</th>\n",
       "      <th>Close</th>\n",
       "      <th>Volume</th>\n",
       "    </tr>\n",
       "    <tr>\n",
       "      <th>Date</th>\n",
       "      <th></th>\n",
       "      <th></th>\n",
       "      <th></th>\n",
       "      <th></th>\n",
       "      <th></th>\n",
       "    </tr>\n",
       "  </thead>\n",
       "  <tbody>\n",
       "    <tr>\n",
       "      <th>2021-10-05 02:01:00</th>\n",
       "      <td>49265.61</td>\n",
       "      <td>49285.00</td>\n",
       "      <td>49211.81</td>\n",
       "      <td>49211.81</td>\n",
       "      <td>36.84349</td>\n",
       "    </tr>\n",
       "    <tr>\n",
       "      <th>2021-10-05 02:02:00</th>\n",
       "      <td>49211.82</td>\n",
       "      <td>49223.34</td>\n",
       "      <td>49130.58</td>\n",
       "      <td>49152.44</td>\n",
       "      <td>31.37212</td>\n",
       "    </tr>\n",
       "    <tr>\n",
       "      <th>2021-10-05 02:03:00</th>\n",
       "      <td>49152.44</td>\n",
       "      <td>49191.04</td>\n",
       "      <td>49145.78</td>\n",
       "      <td>49165.65</td>\n",
       "      <td>17.31344</td>\n",
       "    </tr>\n",
       "    <tr>\n",
       "      <th>2021-10-05 02:04:00</th>\n",
       "      <td>49165.65</td>\n",
       "      <td>49182.16</td>\n",
       "      <td>49109.29</td>\n",
       "      <td>49141.96</td>\n",
       "      <td>45.30462</td>\n",
       "    </tr>\n",
       "    <tr>\n",
       "      <th>2021-10-05 02:05:00</th>\n",
       "      <td>49141.96</td>\n",
       "      <td>49165.81</td>\n",
       "      <td>49114.24</td>\n",
       "      <td>49149.09</td>\n",
       "      <td>34.72251</td>\n",
       "    </tr>\n",
       "  </tbody>\n",
       "</table>\n",
       "</div>"
      ],
      "text/plain": [
       "                         Open      High       Low     Close    Volume\n",
       "Date                                                                 \n",
       "2021-10-05 02:01:00  49265.61  49285.00  49211.81  49211.81  36.84349\n",
       "2021-10-05 02:02:00  49211.82  49223.34  49130.58  49152.44  31.37212\n",
       "2021-10-05 02:03:00  49152.44  49191.04  49145.78  49165.65  17.31344\n",
       "2021-10-05 02:04:00  49165.65  49182.16  49109.29  49141.96  45.30462\n",
       "2021-10-05 02:05:00  49141.96  49165.81  49114.24  49149.09  34.72251"
      ]
     },
     "execution_count": 71,
     "metadata": {},
     "output_type": "execute_result"
    }
   ],
   "source": [
    "df.head()"
   ]
  },
  {
   "cell_type": "code",
   "execution_count": null,
   "metadata": {},
   "outputs": [],
   "source": []
  },
  {
   "cell_type": "markdown",
   "metadata": {},
   "source": [
    "Codigo obtenido de : http://acodigo.blogspot.com/2021/01/python-binance-api.html"
   ]
  },
  {
   "cell_type": "markdown",
   "metadata": {},
   "source": [
    "## The Lag Plot"
   ]
  },
  {
   "cell_type": "code",
   "execution_count": 53,
   "metadata": {},
   "outputs": [
    {
     "name": "stderr",
     "output_type": "stream",
     "text": [
      "'c' argument looks like a single numeric RGB or RGBA sequence, which should be avoided as value-mapping will have precedence in case its length matches with 'x' & 'y'.  Please use a 2-D array with a single row if you really want to specify the same RGB or RGBA value for all points.\n"
     ]
    },
    {
     "data": {
      "text/plain": [
       "<matplotlib.axes._subplots.AxesSubplot at 0x1bac277b630>"
      ]
     },
     "execution_count": 53,
     "metadata": {},
     "output_type": "execute_result"
    },
    {
     "data": {
      "image/png": "[encoded data removed]",
      "text/plain": [
       "<Figure size 432x288 with 1 Axes>"
      ]
     },
     "metadata": {},
     "output_type": "display_data"
    }
   ],
   "source": [
    "pd.plotting.lag_plot(BTC, lag=2)"
   ]
  },
  {
   "cell_type": "code",
   "execution_count": 50,
   "metadata": {},
   "outputs": [
    {
     "data": {
      "image/png": "[encoded data removed]",
      "text/plain": [
       "<Figure size 432x288 with 6 Axes>"
      ]
     },
     "execution_count": 50,
     "metadata": {},
     "output_type": "execute_result"
    },
    {
     "data": {
      "image/png": "[encoded data removed]",
      "text/plain": [
       "<Figure size 432x288 with 6 Axes>"
      ]
     },
     "metadata": {},
     "output_type": "display_data"
    }
   ],
   "source": [
    "pd.plotting.bootstrap_plot(BTC)"
   ]
  },
  {
   "cell_type": "markdown",
   "metadata": {},
   "source": [
    "## THE PACF"
   ]
  },
  {
   "cell_type": "code",
   "execution_count": null,
   "metadata": {},
   "outputs": [],
   "source": []
  },
  {
   "cell_type": "code",
   "execution_count": 46,
   "metadata": {},
   "outputs": [
    {
     "ename": "AttributeError",
     "evalue": "module 'pandas' has no attribute 'plot_pacf'",
     "output_type": "error",
     "traceback": [
      "\u001b[1;31m---------------------------------------------------------------------------\u001b[0m",
      "\u001b[1;31mAttributeError\u001b[0m                            Traceback (most recent call last)",
      "\u001b[1;32m<ipython-input-46-ef565259fb6f>\u001b[0m in \u001b[0;36m<module>\u001b[1;34m()\u001b[0m\n\u001b[1;32m----> 1\u001b[1;33m \u001b[0mpd\u001b[0m\u001b[1;33m.\u001b[0m\u001b[0mplot_pacf\u001b[0m\u001b[1;33m(\u001b[0m\u001b[0mBTC\u001b[0m\u001b[1;33m,\u001b[0m \u001b[0mlags\u001b[0m \u001b[1;33m=\u001b[0m \u001b[1;36m50\u001b[0m\u001b[1;33m,\u001b[0m \u001b[0malpha\u001b[0m \u001b[1;33m=\u001b[0m \u001b[1;36m0.05\u001b[0m\u001b[1;33m,\u001b[0m \u001b[0mzero\u001b[0m \u001b[1;33m=\u001b[0m \u001b[1;32mFalse\u001b[0m\u001b[1;33m,\u001b[0m \u001b[0mmethod\u001b[0m \u001b[1;33m=\u001b[0m \u001b[1;33m(\u001b[0m\u001b[1;34m'ols'\u001b[0m\u001b[1;33m)\u001b[0m\u001b[1;33m)\u001b[0m\u001b[1;33m\u001b[0m\u001b[1;33m\u001b[0m\u001b[0m\n\u001b[0m\u001b[0;32m      2\u001b[0m \u001b[0mplt\u001b[0m\u001b[1;33m.\u001b[0m\u001b[0mtitle\u001b[0m\u001b[1;33m(\u001b[0m\u001b[1;34m\"PACF for BTC prices\"\u001b[0m\u001b[1;33m,\u001b[0m \u001b[0msize\u001b[0m \u001b[1;33m=\u001b[0m \u001b[1;36m20\u001b[0m\u001b[1;33m)\u001b[0m\u001b[1;33m\u001b[0m\u001b[1;33m\u001b[0m\u001b[0m\n\u001b[0;32m      3\u001b[0m \u001b[0mplt\u001b[0m\u001b[1;33m.\u001b[0m\u001b[0mshow\u001b[0m\u001b[1;33m(\u001b[0m\u001b[1;33m)\u001b[0m\u001b[1;33m\u001b[0m\u001b[1;33m\u001b[0m\u001b[0m\n",
      "\u001b[1;32m~\\Anaconda3\\lib\\site-packages\\pandas\\__init__.py\u001b[0m in \u001b[0;36m__getattr__\u001b[1;34m(name)\u001b[0m\n\u001b[0;32m    242\u001b[0m         \u001b[1;32mreturn\u001b[0m \u001b[0m_SparseArray\u001b[0m\u001b[1;33m\u001b[0m\u001b[1;33m\u001b[0m\u001b[0m\n\u001b[0;32m    243\u001b[0m \u001b[1;33m\u001b[0m\u001b[0m\n\u001b[1;32m--> 244\u001b[1;33m     \u001b[1;32mraise\u001b[0m \u001b[0mAttributeError\u001b[0m\u001b[1;33m(\u001b[0m\u001b[1;34mf\"module 'pandas' has no attribute '{name}'\"\u001b[0m\u001b[1;33m)\u001b[0m\u001b[1;33m\u001b[0m\u001b[1;33m\u001b[0m\u001b[0m\n\u001b[0m\u001b[0;32m    245\u001b[0m \u001b[1;33m\u001b[0m\u001b[0m\n\u001b[0;32m    246\u001b[0m \u001b[1;33m\u001b[0m\u001b[0m\n",
      "\u001b[1;31mAttributeError\u001b[0m: module 'pandas' has no attribute 'plot_pacf'"
     ]
    }
   ],
   "source": [
    "pd.plot_pacf(BTC, lags = 50, alpha = 0.05, zero = False, method = ('ols'))\n",
    "plt.title(\"PACF for BTC prices\", size = 20)\n",
    "plt.show()"
   ]
  },
  {
   "cell_type": "markdown",
   "metadata": {},
   "source": [
    "# The AR(1) model"
   ]
  },
  {
   "cell_type": "code",
   "execution_count": 13,
   "metadata": {},
   "outputs": [
    {
     "ename": "NameError",
     "evalue": "name 'ARMA' is not defined",
     "output_type": "error",
     "traceback": [
      "\u001b[1;31m---------------------------------------------------------------------------\u001b[0m",
      "\u001b[1;31mNameError\u001b[0m                                 Traceback (most recent call last)",
      "\u001b[1;32m<ipython-input-13-eb1b769e21b9>\u001b[0m in \u001b[0;36m<module>\u001b[1;34m()\u001b[0m\n\u001b[1;32m----> 1\u001b[1;33m \u001b[0mmodel_ar\u001b[0m \u001b[1;33m=\u001b[0m \u001b[0mARMA\u001b[0m\u001b[1;33m(\u001b[0m\u001b[0mBTC\u001b[0m\u001b[1;33m,\u001b[0m \u001b[0morder\u001b[0m\u001b[1;33m=\u001b[0m\u001b[1;33m(\u001b[0m\u001b[1;36m1\u001b[0m\u001b[1;33m,\u001b[0m\u001b[1;36m0\u001b[0m\u001b[1;33m)\u001b[0m\u001b[1;33m)\u001b[0m\u001b[1;33m\u001b[0m\u001b[1;33m\u001b[0m\u001b[0m\n\u001b[0m",
      "\u001b[1;31mNameError\u001b[0m: name 'ARMA' is not defined"
     ]
    }
   ],
   "source": [
    "model_ar = ARMA(BTC, order=(1,0))"
   ]
  },
  {
   "cell_type": "code",
   "execution_count": 9,
   "metadata": {},
   "outputs": [],
   "source": [
    "results_ar = model_ar.fit()"
   ]
  },
  {
   "cell_type": "code",
   "execution_count": 10,
   "metadata": {},
   "outputs": [
    {
     "data": {
      "text/html": [
       "<table class=\"simpletable\">\n",
       "<caption>ARMA Model Results</caption>\n",
       "<tr>\n",
       "  <th>Dep. Variable:</th>       <td>Close</td>      <th>  No. Observations:  </th>    <td>2075</td>   \n",
       "</tr>\n",
       "<tr>\n",
       "  <th>Model:</th>            <td>ARMA(1, 0)</td>    <th>  Log Likelihood     </th> <td>-16687.888</td>\n",
       "</tr>\n",
       "<tr>\n",
       "  <th>Method:</th>             <td>css-mle</td>     <th>  S.D. of innovations</th>   <td>751.329</td> \n",
       "</tr>\n",
       "<tr>\n",
       "  <th>Date:</th>          <td>Sat, 02 Oct 2021</td> <th>  AIC                </th>  <td>33381.775</td>\n",
       "</tr>\n",
       "<tr>\n",
       "  <th>Time:</th>              <td>18:43:51</td>     <th>  BIC                </th>  <td>33398.688</td>\n",
       "</tr>\n",
       "<tr>\n",
       "  <th>Sample:</th>                <td>0</td>        <th>  HQIC               </th>  <td>33387.974</td>\n",
       "</tr>\n",
       "<tr>\n",
       "  <th></th>                       <td> </td>        <th>                     </th>      <td> </td>    \n",
       "</tr>\n",
       "</table>\n",
       "<table class=\"simpletable\">\n",
       "<tr>\n",
       "       <td></td>          <th>coef</th>     <th>std err</th>      <th>z</th>      <th>P>|z|</th>  <th>[0.025</th>    <th>0.975]</th>  \n",
       "</tr>\n",
       "<tr>\n",
       "  <th>const</th>       <td> 1.079e+04</td> <td> 1.73e+04</td> <td>    0.622</td> <td> 0.534</td> <td>-2.32e+04</td> <td> 4.48e+04</td>\n",
       "</tr>\n",
       "<tr>\n",
       "  <th>ar.L1.Close</th> <td>    0.9993</td> <td>    0.001</td> <td> 1089.165</td> <td> 0.000</td> <td>    0.997</td> <td>    1.001</td>\n",
       "</tr>\n",
       "</table>\n",
       "<table class=\"simpletable\">\n",
       "<caption>Roots</caption>\n",
       "<tr>\n",
       "    <td></td>   <th>            Real</th>  <th>         Imaginary</th> <th>         Modulus</th>  <th>        Frequency</th>\n",
       "</tr>\n",
       "<tr>\n",
       "  <th>AR.1</th> <td>           1.0007</td> <td>          +0.0000j</td> <td>           1.0007</td> <td>           0.0000</td>\n",
       "</tr>\n",
       "</table>"
      ],
      "text/plain": [
       "<class 'statsmodels.iolib.summary.Summary'>\n",
       "\"\"\"\n",
       "                              ARMA Model Results                              \n",
       "==============================================================================\n",
       "Dep. Variable:                  Close   No. Observations:                 2075\n",
       "Model:                     ARMA(1, 0)   Log Likelihood              -16687.888\n",
       "Method:                       css-mle   S.D. of innovations            751.329\n",
       "Date:                Sat, 02 Oct 2021   AIC                          33381.775\n",
       "Time:                        18:43:51   BIC                          33398.688\n",
       "Sample:                             0   HQIC                         33387.974\n",
       "                                                                              \n",
       "===============================================================================\n",
       "                  coef    std err          z      P>|z|      [0.025      0.975]\n",
       "-------------------------------------------------------------------------------\n",
       "const        1.079e+04   1.73e+04      0.622      0.534   -2.32e+04    4.48e+04\n",
       "ar.L1.Close     0.9993      0.001   1089.165      0.000       0.997       1.001\n",
       "                                    Roots                                    \n",
       "=============================================================================\n",
       "                  Real          Imaginary           Modulus         Frequency\n",
       "-----------------------------------------------------------------------------\n",
       "AR.1            1.0007           +0.0000j            1.0007            0.0000\n",
       "-----------------------------------------------------------------------------\n",
       "\"\"\""
      ]
     },
     "execution_count": 10,
     "metadata": {},
     "output_type": "execute_result"
    }
   ],
   "source": [
    "results_ar.summary()"
   ]
  },
  {
   "cell_type": "code",
   "execution_count": 11,
   "metadata": {},
   "outputs": [],
   "source": [
    "def LLR_test(mod_1, mod_2, DF=1):\n",
    "    \"mod_1 = place the first model, mod_2= place your second model, DF = degrees of freedom, 1 degree of freedom by default\"\n",
    "    L1 = mod_1.fit().llf\n",
    "    L2 = mod_2.fit().llf\n",
    "    LR = (2*(L2-L1))\n",
    "    p = chi2.sf(LR, DF).round(3)\n",
    "    return p"
   ]
  },
  {
   "cell_type": "code",
   "execution_count": 12,
   "metadata": {},
   "outputs": [
    {
     "data": {
      "text/html": [
       "<table class=\"simpletable\">\n",
       "<caption>ARMA Model Results</caption>\n",
       "<tr>\n",
       "  <th>Dep. Variable:</th>       <td>Close</td>      <th>  No. Observations:  </th>    <td>2075</td>   \n",
       "</tr>\n",
       "<tr>\n",
       "  <th>Model:</th>            <td>ARMA(2, 0)</td>    <th>  Log Likelihood     </th> <td>-16684.344</td>\n",
       "</tr>\n",
       "<tr>\n",
       "  <th>Method:</th>             <td>css-mle</td>     <th>  S.D. of innovations</th>   <td>750.037</td> \n",
       "</tr>\n",
       "<tr>\n",
       "  <th>Date:</th>          <td>Sat, 02 Oct 2021</td> <th>  AIC                </th>  <td>33376.688</td>\n",
       "</tr>\n",
       "<tr>\n",
       "  <th>Time:</th>              <td>18:43:51</td>     <th>  BIC                </th>  <td>33399.239</td>\n",
       "</tr>\n",
       "<tr>\n",
       "  <th>Sample:</th>                <td>0</td>        <th>  HQIC               </th>  <td>33384.953</td>\n",
       "</tr>\n",
       "<tr>\n",
       "  <th></th>                       <td> </td>        <th>                     </th>      <td> </td>    \n",
       "</tr>\n",
       "</table>\n",
       "<table class=\"simpletable\">\n",
       "<tr>\n",
       "       <td></td>          <th>coef</th>     <th>std err</th>      <th>z</th>      <th>P>|z|</th>  <th>[0.025</th>    <th>0.975]</th>  \n",
       "</tr>\n",
       "<tr>\n",
       "  <th>const</th>       <td> 1.079e+04</td> <td> 1.88e+04</td> <td>    0.574</td> <td> 0.566</td> <td>-2.61e+04</td> <td> 4.76e+04</td>\n",
       "</tr>\n",
       "<tr>\n",
       "  <th>ar.L1.Close</th> <td>    0.9409</td> <td>    0.021</td> <td>   44.713</td> <td> 0.000</td> <td>    0.900</td> <td>    0.982</td>\n",
       "</tr>\n",
       "<tr>\n",
       "  <th>ar.L2.Close</th> <td>    0.0584</td> <td>    0.021</td> <td>    2.774</td> <td> 0.006</td> <td>    0.017</td> <td>    0.100</td>\n",
       "</tr>\n",
       "</table>\n",
       "<table class=\"simpletable\">\n",
       "<caption>Roots</caption>\n",
       "<tr>\n",
       "    <td></td>   <th>            Real</th>  <th>         Imaginary</th> <th>         Modulus</th>  <th>        Frequency</th>\n",
       "</tr>\n",
       "<tr>\n",
       "  <th>AR.1</th> <td>           1.0006</td> <td>          +0.0000j</td> <td>           1.0006</td> <td>           0.0000</td>\n",
       "</tr>\n",
       "<tr>\n",
       "  <th>AR.2</th> <td>         -17.1065</td> <td>          +0.0000j</td> <td>          17.1065</td> <td>           0.5000</td>\n",
       "</tr>\n",
       "</table>"
      ],
      "text/plain": [
       "<class 'statsmodels.iolib.summary.Summary'>\n",
       "\"\"\"\n",
       "                              ARMA Model Results                              \n",
       "==============================================================================\n",
       "Dep. Variable:                  Close   No. Observations:                 2075\n",
       "Model:                     ARMA(2, 0)   Log Likelihood              -16684.344\n",
       "Method:                       css-mle   S.D. of innovations            750.037\n",
       "Date:                Sat, 02 Oct 2021   AIC                          33376.688\n",
       "Time:                        18:43:51   BIC                          33399.239\n",
       "Sample:                             0   HQIC                         33384.953\n",
       "                                                                              \n",
       "===============================================================================\n",
       "                  coef    std err          z      P>|z|      [0.025      0.975]\n",
       "-------------------------------------------------------------------------------\n",
       "const        1.079e+04   1.88e+04      0.574      0.566   -2.61e+04    4.76e+04\n",
       "ar.L1.Close     0.9409      0.021     44.713      0.000       0.900       0.982\n",
       "ar.L2.Close     0.0584      0.021      2.774      0.006       0.017       0.100\n",
       "                                    Roots                                    \n",
       "=============================================================================\n",
       "                  Real          Imaginary           Modulus         Frequency\n",
       "-----------------------------------------------------------------------------\n",
       "AR.1            1.0006           +0.0000j            1.0006            0.0000\n",
       "AR.2          -17.1065           +0.0000j           17.1065            0.5000\n",
       "-----------------------------------------------------------------------------\n",
       "\"\"\""
      ]
     },
     "execution_count": 12,
     "metadata": {},
     "output_type": "execute_result"
    }
   ],
   "source": [
    "model_ar2 = ARMA(BTC, order=(2,0))\n",
    "results_ar2 = model_ar2.fit()\n",
    "results_ar2.summary()"
   ]
  },
  {
   "cell_type": "code",
   "execution_count": 13,
   "metadata": {},
   "outputs": [
    {
     "name": "stdout",
     "output_type": "stream",
     "text": [
      "                              ARMA Model Results                              \n",
      "==============================================================================\n",
      "Dep. Variable:                  Close   No. Observations:                 2075\n",
      "Model:                     ARMA(2, 0)   Log Likelihood              -16684.344\n",
      "Method:                       css-mle   S.D. of innovations            750.037\n",
      "Date:                Sat, 02 Oct 2021   AIC                          33376.688\n",
      "Time:                        18:43:51   BIC                          33399.239\n",
      "Sample:                             0   HQIC                         33384.953\n",
      "                                                                              \n",
      "===============================================================================\n",
      "                  coef    std err          z      P>|z|      [0.025      0.975]\n",
      "-------------------------------------------------------------------------------\n",
      "const        1.079e+04   1.88e+04      0.574      0.566   -2.61e+04    4.76e+04\n",
      "ar.L1.Close     0.9409      0.021     44.713      0.000       0.900       0.982\n",
      "ar.L2.Close     0.0584      0.021      2.774      0.006       0.017       0.100\n",
      "                                    Roots                                    \n",
      "=============================================================================\n",
      "                  Real          Imaginary           Modulus         Frequency\n",
      "-----------------------------------------------------------------------------\n",
      "AR.1            1.0006           +0.0000j            1.0006            0.0000\n",
      "AR.2          -17.1065           +0.0000j           17.1065            0.5000\n",
      "-----------------------------------------------------------------------------\n",
      "LLR test: 0.008\n"
     ]
    }
   ],
   "source": [
    "model_ar_2 = ARMA(BTC, order = (2,0))\n",
    "results_model_ar_2 = model_ar_2.fit()\n",
    "print(results_model_ar_2 .summary())\n",
    "print (\"LLR test: \" + str(LLR_test(model_ar, model_ar_2)))"
   ]
  },
  {
   "cell_type": "markdown",
   "metadata": {},
   "source": [
    "**Tomando un 5% de nivel de significancia, el modelo 2 es mejor que el 1**"
   ]
  },
  {
   "cell_type": "code",
   "execution_count": 14,
   "metadata": {},
   "outputs": [
    {
     "name": "stdout",
     "output_type": "stream",
     "text": [
      "                              ARMA Model Results                              \n",
      "==============================================================================\n",
      "Dep. Variable:                  Close   No. Observations:                 2075\n",
      "Model:                     ARMA(3, 0)   Log Likelihood              -16680.525\n",
      "Method:                       css-mle   S.D. of innovations            748.665\n",
      "Date:                Sat, 02 Oct 2021   AIC                          33371.050\n",
      "Time:                        18:43:52   BIC                          33399.239\n",
      "Sample:                             0   HQIC                         33381.381\n",
      "                                                                              \n",
      "===============================================================================\n",
      "                  coef    std err          z      P>|z|      [0.025      0.975]\n",
      "-------------------------------------------------------------------------------\n",
      "const        1.079e+04   1.73e+04      0.626      0.532    -2.3e+04    4.46e+04\n",
      "ar.L1.Close     0.9445      0.021     44.250      0.000       0.903       0.986\n",
      "ar.L2.Close     0.1154      0.030      3.887      0.000       0.057       0.174\n",
      "ar.L3.Close    -0.0606      0.022     -2.767      0.006      -0.104      -0.018\n",
      "                                    Roots                                    \n",
      "=============================================================================\n",
      "                  Real          Imaginary           Modulus         Frequency\n",
      "-----------------------------------------------------------------------------\n",
      "AR.1            1.0007           +0.0000j            1.0007            0.0000\n",
      "AR.2           -3.6328           +0.0000j            3.6328            0.5000\n",
      "AR.3            4.5354           +0.0000j            4.5354            0.0000\n",
      "-----------------------------------------------------------------------------\n",
      "LLR test: 0.006\n"
     ]
    }
   ],
   "source": [
    "model_ar_3 = ARMA(BTC, order = (3,0))\n",
    "results_model_ar_3 = model_ar_3.fit()\n",
    "print(results_model_ar_3 .summary())\n",
    "print (\"LLR test: \" + str(LLR_test(model_ar2, model_ar_3)))"
   ]
  },
  {
   "cell_type": "markdown",
   "metadata": {},
   "source": [
    "**Tomando un 5% de nivel de significancia, el modelo 3 es mejor que el 2**"
   ]
  },
  {
   "cell_type": "code",
   "execution_count": 15,
   "metadata": {},
   "outputs": [
    {
     "name": "stdout",
     "output_type": "stream",
     "text": [
      "                              ARMA Model Results                              \n",
      "==============================================================================\n",
      "Dep. Variable:                  Close   No. Observations:                 2075\n",
      "Model:                     ARMA(4, 0)   Log Likelihood              -16679.734\n",
      "Method:                       css-mle   S.D. of innovations            748.386\n",
      "Date:                Sat, 02 Oct 2021   AIC                          33371.467\n",
      "Time:                        18:43:53   BIC                          33405.294\n",
      "Sample:                             0   HQIC                         33383.865\n",
      "                                                                              \n",
      "===============================================================================\n",
      "                  coef    std err          z      P>|z|      [0.025      0.975]\n",
      "-------------------------------------------------------------------------------\n",
      "const        1.079e+04   1.64e+04      0.658      0.510   -2.13e+04    4.29e+04\n",
      "ar.L1.Close     0.9428      0.022     43.847      0.000       0.901       0.985\n",
      "ar.L2.Close     0.1188      0.030      3.976      0.000       0.060       0.177\n",
      "ar.L3.Close    -0.0343      0.030     -1.131      0.258      -0.094       0.025\n",
      "ar.L4.Close    -0.0281      0.022     -1.258      0.208      -0.072       0.016\n",
      "                                    Roots                                    \n",
      "=============================================================================\n",
      "                  Real          Imaginary           Modulus         Frequency\n",
      "-----------------------------------------------------------------------------\n",
      "AR.1            1.0008           -0.0000j            1.0008           -0.0000\n",
      "AR.2            2.8540           -0.0000j            2.8540           -0.0000\n",
      "AR.3           -2.5386           -2.4568j            3.5327           -0.3776\n",
      "AR.4           -2.5386           +2.4568j            3.5327            0.3776\n",
      "-----------------------------------------------------------------------------\n",
      "LLR test: 0.208\n"
     ]
    }
   ],
   "source": [
    "model_ar_4 = ARMA(BTC, order = (4,0))\n",
    "results_model_ar_4 = model_ar_4.fit()\n",
    "print(results_model_ar_4 .summary())\n",
    "print (\"LLR test: \" + str(LLR_test(model_ar_3, model_ar_4)))"
   ]
  },
  {
   "cell_type": "markdown",
   "metadata": {},
   "source": [
    "**Tomando un nivel de significancia de 5% el modelo 4 NO es mejor que el modelo 3**"
   ]
  },
  {
   "cell_type": "code",
   "execution_count": 16,
   "metadata": {},
   "outputs": [
    {
     "name": "stdout",
     "output_type": "stream",
     "text": [
      "                              ARMA Model Results                              \n",
      "==============================================================================\n",
      "Dep. Variable:                  Close   No. Observations:                 2075\n",
      "Model:                     ARMA(5, 0)   Log Likelihood              -16678.843\n",
      "Method:                       css-mle   S.D. of innovations            748.070\n",
      "Date:                Sat, 02 Oct 2021   AIC                          33371.685\n",
      "Time:                        18:43:54   BIC                          33411.149\n",
      "Sample:                             0   HQIC                         33386.149\n",
      "                                                                              \n",
      "===============================================================================\n",
      "                  coef    std err          z      P>|z|      [0.025      0.975]\n",
      "-------------------------------------------------------------------------------\n",
      "const        1.079e+04   1.55e+04      0.695      0.487   -1.97e+04    4.12e+04\n",
      "ar.L1.Close     0.9420      0.022     43.610      0.000       0.900       0.984\n",
      "ar.L2.Close     0.1177      0.030      3.930      0.000       0.059       0.176\n",
      "ar.L3.Close    -0.0307      0.030     -1.009      0.313      -0.090       0.029\n",
      "ar.L4.Close -6.056e-05      0.031     -0.002      0.998      -0.060       0.060\n",
      "ar.L5.Close    -0.0298      0.022     -1.335      0.182      -0.073       0.014\n",
      "                                    Roots                                    \n",
      "=============================================================================\n",
      "                  Real          Imaginary           Modulus         Frequency\n",
      "-----------------------------------------------------------------------------\n",
      "AR.1            1.0009           -0.0000j            1.0009           -0.0000\n",
      "AR.2            2.0980           -0.0000j            2.0980           -0.0000\n",
      "AR.3           -2.3573           -0.0000j            2.3573           -0.5000\n",
      "AR.4           -0.3718           -2.5786j            2.6053           -0.2728\n",
      "AR.5           -0.3718           +2.5786j            2.6053            0.2728\n",
      "-----------------------------------------------------------------------------\n",
      "LLR test: 0.182\n"
     ]
    }
   ],
   "source": [
    "model_ar_5 = ARMA(BTC, order = (5,0))\n",
    "results_model_ar_5 = model_ar_5.fit()\n",
    "print(results_model_ar_5 .summary())\n",
    "print (\"LLR test: \" + str(LLR_test(model_ar_4, model_ar_5)))"
   ]
  },
  {
   "cell_type": "markdown",
   "metadata": {},
   "source": [
    "**Tomando un nivel de significancia de 5% el modelo 4 NO es mejor que el modelo 3**"
   ]
  },
  {
   "cell_type": "code",
   "execution_count": 17,
   "metadata": {},
   "outputs": [
    {
     "data": {
      "text/plain": [
       "(-0.26870830733612006,\n",
       " 0.929820736352078,\n",
       " 26,\n",
       " 2048,\n",
       " {'1%': -3.433547028919612,\n",
       "  '5%': -2.8629522934224085,\n",
       "  '10%': -2.5675218415927885},\n",
       " 32883.64184587869)"
      ]
     },
     "execution_count": 17,
     "metadata": {},
     "output_type": "execute_result"
    }
   ],
   "source": [
    "sts.adfuller(BTC)"
   ]
  },
  {
   "cell_type": "markdown",
   "metadata": {},
   "source": [
    "El p value de la prueba de dickey fuller es de: .929, por lo que podemos deducir que nuestra información no viene de un proceso estacionario, a un nivel de significancia del 5%, esto viene de un proceso no estacionario."
   ]
  },
  {
   "cell_type": "markdown",
   "metadata": {},
   "source": [
    "## Usando retornos en vez de precios"
   ]
  },
  {
   "cell_type": "code",
   "execution_count": 18,
   "metadata": {},
   "outputs": [
    {
     "data": {
      "text/html": [
       "<div>\n",
       "<style scoped>\n",
       "    .dataframe tbody tr th:only-of-type {\n",
       "        vertical-align: middle;\n",
       "    }\n",
       "\n",
       "    .dataframe tbody tr th {\n",
       "        vertical-align: top;\n",
       "    }\n",
       "\n",
       "    .dataframe thead th {\n",
       "        text-align: right;\n",
       "    }\n",
       "</style>\n",
       "<table border=\"1\" class=\"dataframe\">\n",
       "  <thead>\n",
       "    <tr style=\"text-align: right;\">\n",
       "      <th></th>\n",
       "      <th>Close</th>\n",
       "    </tr>\n",
       "    <tr>\n",
       "      <th>Date</th>\n",
       "      <th></th>\n",
       "    </tr>\n",
       "  </thead>\n",
       "  <tbody>\n",
       "    <tr>\n",
       "      <th>2016-01-02</th>\n",
       "      <td>-0.206299</td>\n",
       "    </tr>\n",
       "    <tr>\n",
       "      <th>2016-01-03</th>\n",
       "      <td>-0.790656</td>\n",
       "    </tr>\n",
       "    <tr>\n",
       "      <th>2016-01-04</th>\n",
       "      <td>0.716265</td>\n",
       "    </tr>\n",
       "    <tr>\n",
       "      <th>2016-01-05</th>\n",
       "      <td>-0.261149</td>\n",
       "    </tr>\n",
       "    <tr>\n",
       "      <th>2016-01-06</th>\n",
       "      <td>-0.660936</td>\n",
       "    </tr>\n",
       "    <tr>\n",
       "      <th>...</th>\n",
       "      <td>...</td>\n",
       "    </tr>\n",
       "    <tr>\n",
       "      <th>2021-09-05</th>\n",
       "      <td>3.621581</td>\n",
       "    </tr>\n",
       "    <tr>\n",
       "      <th>2021-09-06</th>\n",
       "      <td>1.700613</td>\n",
       "    </tr>\n",
       "    <tr>\n",
       "      <th>2021-09-07</th>\n",
       "      <td>-11.062161</td>\n",
       "    </tr>\n",
       "    <tr>\n",
       "      <th>2021-09-08</th>\n",
       "      <td>-1.537537</td>\n",
       "    </tr>\n",
       "    <tr>\n",
       "      <th>2021-09-09</th>\n",
       "      <td>0.650949</td>\n",
       "    </tr>\n",
       "  </tbody>\n",
       "</table>\n",
       "<p>2074 rows × 1 columns</p>\n",
       "</div>"
      ],
      "text/plain": [
       "                Close\n",
       "Date                 \n",
       "2016-01-02  -0.206299\n",
       "2016-01-03  -0.790656\n",
       "2016-01-04   0.716265\n",
       "2016-01-05  -0.261149\n",
       "2016-01-06  -0.660936\n",
       "...               ...\n",
       "2021-09-05   3.621581\n",
       "2021-09-06   1.700613\n",
       "2021-09-07 -11.062161\n",
       "2021-09-08  -1.537537\n",
       "2021-09-09   0.650949\n",
       "\n",
       "[2074 rows x 1 columns]"
      ]
     },
     "execution_count": 18,
     "metadata": {},
     "output_type": "execute_result"
    }
   ],
   "source": [
    "BTC_returns = pd.DataFrame(BTC.pct_change(1).mul(100))\n",
    "BTC_returns = BTC_returns[1:]\n",
    "BTC_returns"
   ]
  },
  {
   "cell_type": "code",
   "execution_count": 19,
   "metadata": {},
   "outputs": [
    {
     "data": {
      "text/plain": [
       "(-31.68205835408799,\n",
       " 0.0,\n",
       " 1,\n",
       " 2072,\n",
       " {'1%': -3.4335099516667325,\n",
       "  '5%': -2.8629359231480236,\n",
       "  '10%': -2.5675131253354153},\n",
       " 11474.059472809327)"
      ]
     },
     "execution_count": 19,
     "metadata": {},
     "output_type": "execute_result"
    }
   ],
   "source": [
    "sts.adfuller(BTC_returns)"
   ]
  },
  {
   "cell_type": "markdown",
   "metadata": {},
   "source": [
    "El p value de la prueba de dickey fuller es de: 0.0, por lo que podemos deducir que nuestra información viene de un proceso estacionario, a un nivel de significancia del 5%."
   ]
  },
  {
   "cell_type": "code",
   "execution_count": 20,
   "metadata": {},
   "outputs": [
    {
     "data": {
      "image/png": "[encoded data removed]",
      "text/plain": [
       "<Figure size 432x288 with 1 Axes>"
      ]
     },
     "metadata": {},
     "output_type": "display_data"
    }
   ],
   "source": [
    "sgt.plot_acf(BTC_returns, zero=False, lags=40)\n",
    "plt.title(\"ACF for bitcoin returns\", size= 20)\n",
    "plt.show()"
   ]
  },
  {
   "cell_type": "code",
   "execution_count": 21,
   "metadata": {},
   "outputs": [
    {
     "data": {
      "image/png": "[encoded data removed]",
      "text/plain": [
       "<Figure size 432x288 with 1 Axes>"
      ]
     },
     "metadata": {},
     "output_type": "display_data"
    }
   ],
   "source": [
    "sgt.plot_pacf(BTC_returns, lags = 50, alpha = 0.05, zero = False, method = ('ols'))\n",
    "plt.title(\"PACF for Bitcoin returns\", size = 20)\n",
    "plt.show()"
   ]
  },
  {
   "cell_type": "markdown",
   "metadata": {},
   "source": [
    "# Ar for models"
   ]
  },
  {
   "cell_type": "code",
   "execution_count": 22,
   "metadata": {},
   "outputs": [
    {
     "data": {
      "text/html": [
       "<table class=\"simpletable\">\n",
       "<caption>ARMA Model Results</caption>\n",
       "<tr>\n",
       "  <th>Dep. Variable:</th>       <td>Close</td>      <th>  No. Observations:  </th>   <td>2074</td>   \n",
       "</tr>\n",
       "<tr>\n",
       "  <th>Model:</th>            <td>ARMA(1, 0)</td>    <th>  Log Likelihood     </th> <td>-5814.408</td>\n",
       "</tr>\n",
       "<tr>\n",
       "  <th>Method:</th>             <td>css-mle</td>     <th>  S.D. of innovations</th>   <td>3.993</td>  \n",
       "</tr>\n",
       "<tr>\n",
       "  <th>Date:</th>          <td>Sat, 02 Oct 2021</td> <th>  AIC                </th> <td>11634.815</td>\n",
       "</tr>\n",
       "<tr>\n",
       "  <th>Time:</th>              <td>18:43:56</td>     <th>  BIC                </th> <td>11651.727</td>\n",
       "</tr>\n",
       "<tr>\n",
       "  <th>Sample:</th>                <td>0</td>        <th>  HQIC               </th> <td>11641.013</td>\n",
       "</tr>\n",
       "<tr>\n",
       "  <th></th>                       <td> </td>        <th>                     </th>     <td> </td>    \n",
       "</tr>\n",
       "</table>\n",
       "<table class=\"simpletable\">\n",
       "<tr>\n",
       "       <td></td>          <th>coef</th>     <th>std err</th>      <th>z</th>      <th>P>|z|</th>  <th>[0.025</th>    <th>0.975]</th>  \n",
       "</tr>\n",
       "<tr>\n",
       "  <th>const</th>       <td>    0.3060</td> <td>    0.085</td> <td>    3.599</td> <td> 0.000</td> <td>    0.139</td> <td>    0.473</td>\n",
       "</tr>\n",
       "<tr>\n",
       "  <th>ar.L1.Close</th> <td>   -0.0314</td> <td>    0.022</td> <td>   -1.433</td> <td> 0.152</td> <td>   -0.074</td> <td>    0.012</td>\n",
       "</tr>\n",
       "</table>\n",
       "<table class=\"simpletable\">\n",
       "<caption>Roots</caption>\n",
       "<tr>\n",
       "    <td></td>   <th>            Real</th>  <th>         Imaginary</th> <th>         Modulus</th>  <th>        Frequency</th>\n",
       "</tr>\n",
       "<tr>\n",
       "  <th>AR.1</th> <td>         -31.8074</td> <td>          +0.0000j</td> <td>          31.8074</td> <td>           0.5000</td>\n",
       "</tr>\n",
       "</table>"
      ],
      "text/plain": [
       "<class 'statsmodels.iolib.summary.Summary'>\n",
       "\"\"\"\n",
       "                              ARMA Model Results                              \n",
       "==============================================================================\n",
       "Dep. Variable:                  Close   No. Observations:                 2074\n",
       "Model:                     ARMA(1, 0)   Log Likelihood               -5814.408\n",
       "Method:                       css-mle   S.D. of innovations              3.993\n",
       "Date:                Sat, 02 Oct 2021   AIC                          11634.815\n",
       "Time:                        18:43:56   BIC                          11651.727\n",
       "Sample:                             0   HQIC                         11641.013\n",
       "                                                                              \n",
       "===============================================================================\n",
       "                  coef    std err          z      P>|z|      [0.025      0.975]\n",
       "-------------------------------------------------------------------------------\n",
       "const           0.3060      0.085      3.599      0.000       0.139       0.473\n",
       "ar.L1.Close    -0.0314      0.022     -1.433      0.152      -0.074       0.012\n",
       "                                    Roots                                    \n",
       "=============================================================================\n",
       "                  Real          Imaginary           Modulus         Frequency\n",
       "-----------------------------------------------------------------------------\n",
       "AR.1          -31.8074           +0.0000j           31.8074            0.5000\n",
       "-----------------------------------------------------------------------------\n",
       "\"\"\""
      ]
     },
     "execution_count": 22,
     "metadata": {},
     "output_type": "execute_result"
    }
   ],
   "source": [
    "model_ret_ar = ARMA(BTC_returns, order=(1,0))\n",
    "results_ret_ar = model_ret_ar.fit()\n",
    "results_ret_ar.summary()"
   ]
  },
  {
   "cell_type": "code",
   "execution_count": 23,
   "metadata": {},
   "outputs": [
    {
     "name": "stdout",
     "output_type": "stream",
     "text": [
      "                              ARMA Model Results                              \n",
      "==============================================================================\n",
      "Dep. Variable:                  Close   No. Observations:                 2074\n",
      "Model:                     ARMA(2, 0)   Log Likelihood               -5813.438\n",
      "Method:                       css-mle   S.D. of innovations              3.991\n",
      "Date:                Sat, 02 Oct 2021   AIC                          11634.877\n",
      "Time:                        18:43:56   BIC                          11657.426\n",
      "Sample:                             0   HQIC                         11643.141\n",
      "                                                                              \n",
      "===============================================================================\n",
      "                  coef    std err          z      P>|z|      [0.025      0.975]\n",
      "-------------------------------------------------------------------------------\n",
      "const           0.3059      0.088      3.491      0.000       0.134       0.478\n",
      "ar.L1.Close    -0.0305      0.022     -1.389      0.165      -0.073       0.013\n",
      "ar.L2.Close     0.0306      0.022      1.393      0.164      -0.012       0.074\n",
      "                                    Roots                                    \n",
      "=============================================================================\n",
      "                  Real          Imaginary           Modulus         Frequency\n",
      "-----------------------------------------------------------------------------\n",
      "AR.1           -5.2439           +0.0000j            5.2439            0.5000\n",
      "AR.2            6.2414           +0.0000j            6.2414            0.0000\n",
      "-----------------------------------------------------------------------------\n",
      "LLR test: 0.164\n"
     ]
    }
   ],
   "source": [
    "model_ret_ar2 = ARMA(BTC_returns, order = (2,0))\n",
    "results_model_ret_ar2 = model_ret_ar2.fit()\n",
    "print(results_model_ret_ar2 .summary())\n",
    "print (\"LLR test: \" + str(LLR_test(model_ret_ar, model_ret_ar2)))"
   ]
  },
  {
   "cell_type": "code",
   "execution_count": 24,
   "metadata": {},
   "outputs": [
    {
     "name": "stdout",
     "output_type": "stream",
     "text": [
      "                              ARMA Model Results                              \n",
      "==============================================================================\n",
      "Dep. Variable:                  Close   No. Observations:                 2074\n",
      "Model:                     ARMA(3, 0)   Log Likelihood               -5813.434\n",
      "Method:                       css-mle   S.D. of innovations              3.991\n",
      "Date:                Sat, 02 Oct 2021   AIC                          11636.869\n",
      "Time:                        18:43:57   BIC                          11665.055\n",
      "Sample:                             0   HQIC                         11647.199\n",
      "                                                                              \n",
      "===============================================================================\n",
      "                  coef    std err          z      P>|z|      [0.025      0.975]\n",
      "-------------------------------------------------------------------------------\n",
      "const           0.3059      0.088      3.484      0.000       0.134       0.478\n",
      "ar.L1.Close    -0.0305      0.022     -1.391      0.164      -0.074       0.012\n",
      "ar.L2.Close     0.0306      0.022      1.395      0.163      -0.012       0.074\n",
      "ar.L3.Close     0.0019      0.022      0.089      0.929      -0.041       0.045\n",
      "                                    Roots                                    \n",
      "=============================================================================\n",
      "                  Real          Imaginary           Modulus         Frequency\n",
      "-----------------------------------------------------------------------------\n",
      "AR.1            5.3261           +0.0000j            5.3261            0.0000\n",
      "AR.2           -6.7383           +0.0000j            6.7383            0.5000\n",
      "AR.3          -14.3089           +0.0000j           14.3089            0.5000\n",
      "-----------------------------------------------------------------------------\n",
      "LLR test: 0.929\n"
     ]
    }
   ],
   "source": [
    "model_ret_ar3 = ARMA(BTC_returns, order = (3,0))\n",
    "results_model_ret_ar3 = model_ret_ar3.fit()\n",
    "print(results_model_ret_ar3 .summary())\n",
    "print (\"LLR test: \" + str(LLR_test(model_ret_ar2, model_ret_ar3)))"
   ]
  },
  {
   "cell_type": "code",
   "execution_count": 25,
   "metadata": {},
   "outputs": [
    {
     "name": "stdout",
     "output_type": "stream",
     "text": [
      "                              ARMA Model Results                              \n",
      "==============================================================================\n",
      "Dep. Variable:                  Close   No. Observations:                 2074\n",
      "Model:                     ARMA(4, 0)   Log Likelihood               -5813.228\n",
      "Method:                       css-mle   S.D. of innovations              3.991\n",
      "Date:                Sat, 02 Oct 2021   AIC                          11638.457\n",
      "Time:                        18:43:57   BIC                          11672.280\n",
      "Sample:                             0   HQIC                         11650.853\n",
      "                                                                              \n",
      "===============================================================================\n",
      "                  coef    std err          z      P>|z|      [0.025      0.975]\n",
      "-------------------------------------------------------------------------------\n",
      "const           0.3058      0.089      3.434      0.001       0.131       0.480\n",
      "ar.L1.Close    -0.0306      0.022     -1.392      0.164      -0.074       0.012\n",
      "ar.L2.Close     0.0302      0.022      1.374      0.169      -0.013       0.073\n",
      "ar.L3.Close     0.0024      0.022      0.108      0.914      -0.041       0.045\n",
      "ar.L4.Close     0.0141      0.022      0.642      0.521      -0.029       0.057\n",
      "                                    Roots                                    \n",
      "=============================================================================\n",
      "                  Real          Imaginary           Modulus         Frequency\n",
      "-----------------------------------------------------------------------------\n",
      "AR.1            2.7495           -0.0000j            2.7495           -0.0000\n",
      "AR.2           -2.6956           -0.0000j            2.6956           -0.5000\n",
      "AR.3           -0.1114           -3.0903j            3.0923           -0.2557\n",
      "AR.4           -0.1114           +3.0903j            3.0923            0.2557\n",
      "-----------------------------------------------------------------------------\n",
      "LLR test: 0.521\n"
     ]
    }
   ],
   "source": [
    "model_ret_ar4 = ARMA(BTC_returns, order = (4,0))\n",
    "results_model_ret_ar4 = model_ret_ar4.fit()\n",
    "print(results_model_ret_ar4 .summary())\n",
    "print (\"LLR test: \" + str(LLR_test(model_ret_ar3, model_ret_ar4)))"
   ]
  },
  {
   "cell_type": "code",
   "execution_count": 26,
   "metadata": {},
   "outputs": [
    {
     "name": "stdout",
     "output_type": "stream",
     "text": [
      "                              ARMA Model Results                              \n",
      "==============================================================================\n",
      "Dep. Variable:                  Close   No. Observations:                 2074\n",
      "Model:                     ARMA(9, 0)   Log Likelihood               -5811.060\n",
      "Method:                       css-mle   S.D. of innovations              3.987\n",
      "Date:                Sat, 02 Oct 2021   AIC                          11644.121\n",
      "Time:                        18:43:59   BIC                          11706.130\n",
      "Sample:                             0   HQIC                         11666.848\n",
      "                                                                              \n",
      "===============================================================================\n",
      "                  coef    std err          z      P>|z|      [0.025      0.975]\n",
      "-------------------------------------------------------------------------------\n",
      "const           0.3058      0.089      3.417      0.001       0.130       0.481\n",
      "ar.L1.Close    -0.0312      0.022     -1.423      0.155      -0.074       0.012\n",
      "ar.L2.Close     0.0302      0.022      1.374      0.169      -0.013       0.073\n",
      "ar.L3.Close     0.0028      0.022      0.129      0.898      -0.040       0.046\n",
      "ar.L4.Close     0.0140      0.022      0.636      0.525      -0.029       0.057\n",
      "ar.L5.Close     0.0172      0.022      0.781      0.435      -0.026       0.060\n",
      "ar.L6.Close     0.0344      0.022      1.564      0.118      -0.009       0.078\n",
      "ar.L7.Close    -0.0153      0.022     -0.695      0.487      -0.058       0.028\n",
      "ar.L8.Close    -0.0156      0.022     -0.708      0.479      -0.059       0.028\n",
      "ar.L9.Close    -0.0147      0.022     -0.668      0.504      -0.058       0.028\n",
      "                                    Roots                                    \n",
      "=============================================================================\n",
      "                  Real          Imaginary           Modulus         Frequency\n",
      "-----------------------------------------------------------------------------\n",
      "AR.1            1.4362           -0.4723j            1.5119           -0.0506\n",
      "AR.2            1.4362           +0.4723j            1.5119            0.0506\n",
      "AR.3            0.6286           -1.3307j            1.4717           -0.1798\n",
      "AR.4            0.6286           +1.3307j            1.4717            0.1798\n",
      "AR.5           -1.5324           -0.0000j            1.5324           -0.5000\n",
      "AR.6           -1.2793           -1.1783j            1.7393           -0.3815\n",
      "AR.7           -1.2793           +1.1783j            1.7393            0.3815\n",
      "AR.8           -0.5494           -1.6334j            1.7233           -0.3016\n",
      "AR.9           -0.5494           +1.6334j            1.7233            0.3016\n",
      "-----------------------------------------------------------------------------\n"
     ]
    }
   ],
   "source": [
    "model_ret_ar9 = ARMA(BTC_returns, order = (9,0))\n",
    "results_model_ret_ar9 = model_ret_ar9.fit()\n",
    "print(results_model_ret_ar9 .summary())"
   ]
  },
  {
   "cell_type": "code",
   "execution_count": 27,
   "metadata": {},
   "outputs": [
    {
     "name": "stdout",
     "output_type": "stream",
     "text": [
      "                              ARMA Model Results                              \n",
      "==============================================================================\n",
      "Dep. Variable:                  Close   No. Observations:                 2074\n",
      "Model:                    ARMA(10, 0)   Log Likelihood               -5808.021\n",
      "Method:                       css-mle   S.D. of innovations              3.981\n",
      "Date:                Sat, 02 Oct 2021   AIC                          11640.041\n",
      "Time:                        18:44:02   BIC                          11707.688\n",
      "Sample:                             0   HQIC                         11664.834\n",
      "                                                                              \n",
      "================================================================================\n",
      "                   coef    std err          z      P>|z|      [0.025      0.975]\n",
      "--------------------------------------------------------------------------------\n",
      "const            0.3057      0.094      3.237      0.001       0.121       0.491\n",
      "ar.L1.Close     -0.0304      0.022     -1.389      0.165      -0.073       0.013\n",
      "ar.L2.Close      0.0310      0.022      1.415      0.157      -0.012       0.074\n",
      "ar.L3.Close      0.0037      0.022      0.166      0.868      -0.039       0.047\n",
      "ar.L4.Close      0.0121      0.022      0.549      0.583      -0.031       0.055\n",
      "ar.L5.Close      0.0162      0.022      0.739      0.460      -0.027       0.059\n",
      "ar.L6.Close      0.0336      0.022      1.532      0.126      -0.009       0.077\n",
      "ar.L7.Close     -0.0154      0.022     -0.702      0.482      -0.058       0.028\n",
      "ar.L8.Close     -0.0173      0.022     -0.787      0.431      -0.060       0.026\n",
      "ar.L9.Close     -0.0130      0.022     -0.591      0.555      -0.056       0.030\n",
      "ar.L10.Close     0.0541      0.022      2.468      0.014       0.011       0.097\n",
      "                                    Roots                                     \n",
      "==============================================================================\n",
      "                   Real          Imaginary           Modulus         Frequency\n",
      "------------------------------------------------------------------------------\n",
      "AR.1            -1.2912           -0.0000j            1.2912           -0.5000\n",
      "AR.2            -1.0782           -0.7952j            1.3397           -0.3989\n",
      "AR.3            -1.0782           +0.7952j            1.3397            0.3989\n",
      "AR.4            -0.4382           -1.2549j            1.3292           -0.3035\n",
      "AR.5            -0.4382           +1.2549j            1.3292            0.3035\n",
      "AR.6             0.4380           -1.2262j            1.3021           -0.1954\n",
      "AR.7             0.4380           +1.2262j            1.3021            0.1954\n",
      "AR.8             1.3622           -0.0000j            1.3622           -0.0000\n",
      "AR.9             1.1627           -0.7753j            1.3975           -0.0936\n",
      "AR.10            1.1627           +0.7753j            1.3975            0.0936\n",
      "------------------------------------------------------------------------------\n"
     ]
    }
   ],
   "source": [
    "model_ret_ar10 = ARMA(BTC_returns, order = (10,0))\n",
    "results_model_ret_ar10 = model_ret_ar10.fit()\n",
    "print(results_model_ret_ar10.summary())"
   ]
  },
  {
   "cell_type": "code",
   "execution_count": 28,
   "metadata": {},
   "outputs": [
    {
     "name": "stdout",
     "output_type": "stream",
     "text": [
      "                              ARMA Model Results                              \n",
      "==============================================================================\n",
      "Dep. Variable:                  Close   No. Observations:                 2074\n",
      "Model:                    ARMA(10, 0)   Log Likelihood               -5808.021\n",
      "Method:                       css-mle   S.D. of innovations              3.981\n",
      "Date:                Sat, 02 Oct 2021   AIC                          11640.041\n",
      "Time:                        18:44:07   BIC                          11707.688\n",
      "Sample:                             0   HQIC                         11664.834\n",
      "                                                                              \n",
      "================================================================================\n",
      "                   coef    std err          z      P>|z|      [0.025      0.975]\n",
      "--------------------------------------------------------------------------------\n",
      "const            0.3057      0.094      3.237      0.001       0.121       0.491\n",
      "ar.L1.Close     -0.0304      0.022     -1.389      0.165      -0.073       0.013\n",
      "ar.L2.Close      0.0310      0.022      1.415      0.157      -0.012       0.074\n",
      "ar.L3.Close      0.0037      0.022      0.166      0.868      -0.039       0.047\n",
      "ar.L4.Close      0.0121      0.022      0.549      0.583      -0.031       0.055\n",
      "ar.L5.Close      0.0162      0.022      0.739      0.460      -0.027       0.059\n",
      "ar.L6.Close      0.0336      0.022      1.532      0.126      -0.009       0.077\n",
      "ar.L7.Close     -0.0154      0.022     -0.702      0.482      -0.058       0.028\n",
      "ar.L8.Close     -0.0173      0.022     -0.787      0.431      -0.060       0.026\n",
      "ar.L9.Close     -0.0130      0.022     -0.591      0.555      -0.056       0.030\n",
      "ar.L10.Close     0.0541      0.022      2.468      0.014       0.011       0.097\n",
      "                                    Roots                                     \n",
      "==============================================================================\n",
      "                   Real          Imaginary           Modulus         Frequency\n",
      "------------------------------------------------------------------------------\n",
      "AR.1            -1.2912           -0.0000j            1.2912           -0.5000\n",
      "AR.2            -1.0782           -0.7952j            1.3397           -0.3989\n",
      "AR.3            -1.0782           +0.7952j            1.3397            0.3989\n",
      "AR.4            -0.4382           -1.2549j            1.3292           -0.3035\n",
      "AR.5            -0.4382           +1.2549j            1.3292            0.3035\n",
      "AR.6             0.4380           -1.2262j            1.3021           -0.1954\n",
      "AR.7             0.4380           +1.2262j            1.3021            0.1954\n",
      "AR.8             1.3622           -0.0000j            1.3622           -0.0000\n",
      "AR.9             1.1627           -0.7753j            1.3975           -0.0936\n",
      "AR.10            1.1627           +0.7753j            1.3975            0.0936\n",
      "------------------------------------------------------------------------------\n",
      "LLR test: 0.0\n"
     ]
    }
   ],
   "source": [
    "model_ret_ar10 = ARMA(BTC_returns, order = (10,0))\n",
    "results_model_ret_ar10 = model_ret_ar10.fit()\n",
    "print(results_model_ret_ar10 .summary())\n",
    "print (\"LLR test: \" + str(LLR_test(model_ret_ar, model_ret_ar10)))"
   ]
  },
  {
   "cell_type": "code",
   "execution_count": 29,
   "metadata": {},
   "outputs": [
    {
     "data": {
      "text/plain": [
       "(-31.68205835408799,\n",
       " 0.0,\n",
       " 1,\n",
       " 2072,\n",
       " {'1%': -3.4335099516667325,\n",
       "  '5%': -2.8629359231480236,\n",
       "  '10%': -2.5675131253354153},\n",
       " 11474.059472809327)"
      ]
     },
     "execution_count": 29,
     "metadata": {},
     "output_type": "execute_result"
    }
   ],
   "source": [
    "sts.adfuller(BTC_returns)"
   ]
  },
  {
   "cell_type": "markdown",
   "metadata": {},
   "source": [
    "# Analyzing residuals"
   ]
  },
  {
   "cell_type": "code",
   "execution_count": 30,
   "metadata": {},
   "outputs": [
    {
     "data": {
      "text/plain": [
       "Date\n",
       "2016-01-01 00:00:00                                              434.334\n",
       "2016-01-02 00:00:00                                              433.438\n",
       "2016-01-03 00:00:00                                              430.011\n",
       "2016-01-04 00:00:00                                              433.091\n",
       "2016-01-05 00:00:00                                               431.96\n",
       "                                             ...                        \n",
       "2021-09-06 00:00:00                                              52633.5\n",
       "2021-09-07 00:00:00                                              46811.1\n",
       "2021-09-08 00:00:00                                              46091.4\n",
       "2021-09-09 00:00:00                                              46391.4\n",
       "res_price              Date\n",
       "2016-01-01   -10359.007856\n",
       "2016-01-02    ...\n",
       "Name: Close, Length: 2076, dtype: object"
      ]
     },
     "execution_count": 30,
     "metadata": {},
     "output_type": "execute_result"
    }
   ],
   "source": [
    "BTC['res_price']= results_model_ar_4.resid\n",
    "BTC"
   ]
  },
  {
   "cell_type": "code",
   "execution_count": 31,
   "metadata": {},
   "outputs": [
    {
     "data": {
      "text/plain": [
       "16.286138213637347"
      ]
     },
     "execution_count": 31,
     "metadata": {},
     "output_type": "execute_result"
    }
   ],
   "source": [
    "BTC.res_price.mean()"
   ]
  },
  {
   "cell_type": "code",
   "execution_count": 32,
   "metadata": {},
   "outputs": [
    {
     "data": {
      "text/plain": [
       "611747.9931066977"
      ]
     },
     "execution_count": 32,
     "metadata": {},
     "output_type": "execute_result"
    }
   ],
   "source": [
    "BTC.res_price.var()"
   ]
  },
  {
   "cell_type": "code",
   "execution_count": 33,
   "metadata": {},
   "outputs": [
    {
     "data": {
      "text/plain": [
       "(-7.8900913318727905,\n",
       " 4.460452487944143e-12,\n",
       " 26,\n",
       " 2048,\n",
       " {'1%': -3.433547028919612,\n",
       "  '5%': -2.8629522934224085,\n",
       "  '10%': -2.5675218415927885},\n",
       " 32881.27126473035)"
      ]
     },
     "execution_count": 33,
     "metadata": {},
     "output_type": "execute_result"
    }
   ],
   "source": [
    "sts.adfuller(BTC.res_price)"
   ]
  },
  {
   "cell_type": "markdown",
   "metadata": {},
   "source": [
    "# ARMA (1,1)"
   ]
  },
  {
   "cell_type": "code",
   "execution_count": 34,
   "metadata": {},
   "outputs": [
    {
     "data": {
      "text/html": [
       "<table class=\"simpletable\">\n",
       "<caption>ARMA Model Results</caption>\n",
       "<tr>\n",
       "  <th>Dep. Variable:</th>       <td>Close</td>      <th>  No. Observations:  </th>   <td>2073</td>   \n",
       "</tr>\n",
       "<tr>\n",
       "  <th>Model:</th>            <td>ARMA(1, 1)</td>    <th>  Log Likelihood     </th> <td>-5811.009</td>\n",
       "</tr>\n",
       "<tr>\n",
       "  <th>Method:</th>             <td>css-mle</td>     <th>  S.D. of innovations</th>   <td>3.992</td>  \n",
       "</tr>\n",
       "<tr>\n",
       "  <th>Date:</th>          <td>Sat, 02 Oct 2021</td> <th>  AIC                </th> <td>11630.017</td>\n",
       "</tr>\n",
       "<tr>\n",
       "  <th>Time:</th>              <td>18:44:13</td>     <th>  BIC                </th> <td>11652.564</td>\n",
       "</tr>\n",
       "<tr>\n",
       "  <th>Sample:</th>                <td>0</td>        <th>  HQIC               </th> <td>11638.281</td>\n",
       "</tr>\n",
       "<tr>\n",
       "  <th></th>                       <td> </td>        <th>                     </th>     <td> </td>    \n",
       "</tr>\n",
       "</table>\n",
       "<table class=\"simpletable\">\n",
       "<tr>\n",
       "       <td></td>          <th>coef</th>     <th>std err</th>      <th>z</th>      <th>P>|z|</th>  <th>[0.025</th>    <th>0.975]</th>  \n",
       "</tr>\n",
       "<tr>\n",
       "  <th>const</th>       <td>    0.3063</td> <td>    0.086</td> <td>    3.541</td> <td> 0.000</td> <td>    0.137</td> <td>    0.476</td>\n",
       "</tr>\n",
       "<tr>\n",
       "  <th>ar.L1.Close</th> <td>   -0.8377</td> <td>    0.175</td> <td>   -4.794</td> <td> 0.000</td> <td>   -1.180</td> <td>   -0.495</td>\n",
       "</tr>\n",
       "<tr>\n",
       "  <th>ma.L1.Close</th> <td>    0.8131</td> <td>    0.186</td> <td>    4.362</td> <td> 0.000</td> <td>    0.448</td> <td>    1.178</td>\n",
       "</tr>\n",
       "</table>\n",
       "<table class=\"simpletable\">\n",
       "<caption>Roots</caption>\n",
       "<tr>\n",
       "    <td></td>   <th>            Real</th>  <th>         Imaginary</th> <th>         Modulus</th>  <th>        Frequency</th>\n",
       "</tr>\n",
       "<tr>\n",
       "  <th>AR.1</th> <td>          -1.1937</td> <td>          +0.0000j</td> <td>           1.1937</td> <td>           0.5000</td>\n",
       "</tr>\n",
       "<tr>\n",
       "  <th>MA.1</th> <td>          -1.2299</td> <td>          +0.0000j</td> <td>           1.2299</td> <td>           0.5000</td>\n",
       "</tr>\n",
       "</table>"
      ],
      "text/plain": [
       "<class 'statsmodels.iolib.summary.Summary'>\n",
       "\"\"\"\n",
       "                              ARMA Model Results                              \n",
       "==============================================================================\n",
       "Dep. Variable:                  Close   No. Observations:                 2073\n",
       "Model:                     ARMA(1, 1)   Log Likelihood               -5811.009\n",
       "Method:                       css-mle   S.D. of innovations              3.992\n",
       "Date:                Sat, 02 Oct 2021   AIC                          11630.017\n",
       "Time:                        18:44:13   BIC                          11652.564\n",
       "Sample:                             0   HQIC                         11638.281\n",
       "                                                                              \n",
       "===============================================================================\n",
       "                  coef    std err          z      P>|z|      [0.025      0.975]\n",
       "-------------------------------------------------------------------------------\n",
       "const           0.3063      0.086      3.541      0.000       0.137       0.476\n",
       "ar.L1.Close    -0.8377      0.175     -4.794      0.000      -1.180      -0.495\n",
       "ma.L1.Close     0.8131      0.186      4.362      0.000       0.448       1.178\n",
       "                                    Roots                                    \n",
       "=============================================================================\n",
       "                  Real          Imaginary           Modulus         Frequency\n",
       "-----------------------------------------------------------------------------\n",
       "AR.1           -1.1937           +0.0000j            1.1937            0.5000\n",
       "MA.1           -1.2299           +0.0000j            1.2299            0.5000\n",
       "-----------------------------------------------------------------------------\n",
       "\"\"\""
      ]
     },
     "execution_count": 34,
     "metadata": {},
     "output_type": "execute_result"
    }
   ],
   "source": [
    "model_ret_ar1_ma1 = ARMA(BTC_returns[1:], order=(1,1))\n",
    "results_ret_ar1_ma1 = model_ret_ar1_ma1.fit()\n",
    "results_ret_ar1_ma1.summary()"
   ]
  },
  {
   "cell_type": "code",
   "execution_count": 35,
   "metadata": {},
   "outputs": [],
   "source": [
    "model_ret_ar1 = ARMA(BTC_returns[1:], order=(1,0))\n",
    "model_ret_ma1 = ARMA(BTC_returns[1:], order=(0,1))"
   ]
  },
  {
   "cell_type": "code",
   "execution_count": 36,
   "metadata": {},
   "outputs": [
    {
     "data": {
      "text/html": [
       "<table class=\"simpletable\">\n",
       "<caption>ARMA Model Results</caption>\n",
       "<tr>\n",
       "  <th>Dep. Variable:</th>       <td>Close</td>      <th>  No. Observations:  </th>   <td>2073</td>   \n",
       "</tr>\n",
       "<tr>\n",
       "  <th>Model:</th>            <td>ARMA(1, 0)</td>    <th>  Log Likelihood     </th> <td>-5812.095</td>\n",
       "</tr>\n",
       "<tr>\n",
       "  <th>Method:</th>             <td>css-mle</td>     <th>  S.D. of innovations</th>   <td>3.994</td>  \n",
       "</tr>\n",
       "<tr>\n",
       "  <th>Date:</th>          <td>Sat, 02 Oct 2021</td> <th>  AIC                </th> <td>11630.189</td>\n",
       "</tr>\n",
       "<tr>\n",
       "  <th>Time:</th>              <td>18:44:14</td>     <th>  BIC                </th> <td>11647.100</td>\n",
       "</tr>\n",
       "<tr>\n",
       "  <th>Sample:</th>                <td>0</td>        <th>  HQIC               </th> <td>11636.387</td>\n",
       "</tr>\n",
       "<tr>\n",
       "  <th></th>                       <td> </td>        <th>                     </th>     <td> </td>    \n",
       "</tr>\n",
       "</table>\n",
       "<table class=\"simpletable\">\n",
       "<tr>\n",
       "       <td></td>          <th>coef</th>     <th>std err</th>      <th>z</th>      <th>P>|z|</th>  <th>[0.025</th>    <th>0.975]</th>  \n",
       "</tr>\n",
       "<tr>\n",
       "  <th>const</th>       <td>    0.3062</td> <td>    0.085</td> <td>    3.601</td> <td> 0.000</td> <td>    0.140</td> <td>    0.473</td>\n",
       "</tr>\n",
       "<tr>\n",
       "  <th>ar.L1.Close</th> <td>   -0.0315</td> <td>    0.022</td> <td>   -1.433</td> <td> 0.152</td> <td>   -0.074</td> <td>    0.012</td>\n",
       "</tr>\n",
       "</table>\n",
       "<table class=\"simpletable\">\n",
       "<caption>Roots</caption>\n",
       "<tr>\n",
       "    <td></td>   <th>            Real</th>  <th>         Imaginary</th> <th>         Modulus</th>  <th>        Frequency</th>\n",
       "</tr>\n",
       "<tr>\n",
       "  <th>AR.1</th> <td>         -31.7891</td> <td>          +0.0000j</td> <td>          31.7891</td> <td>           0.5000</td>\n",
       "</tr>\n",
       "</table>"
      ],
      "text/plain": [
       "<class 'statsmodels.iolib.summary.Summary'>\n",
       "\"\"\"\n",
       "                              ARMA Model Results                              \n",
       "==============================================================================\n",
       "Dep. Variable:                  Close   No. Observations:                 2073\n",
       "Model:                     ARMA(1, 0)   Log Likelihood               -5812.095\n",
       "Method:                       css-mle   S.D. of innovations              3.994\n",
       "Date:                Sat, 02 Oct 2021   AIC                          11630.189\n",
       "Time:                        18:44:14   BIC                          11647.100\n",
       "Sample:                             0   HQIC                         11636.387\n",
       "                                                                              \n",
       "===============================================================================\n",
       "                  coef    std err          z      P>|z|      [0.025      0.975]\n",
       "-------------------------------------------------------------------------------\n",
       "const           0.3062      0.085      3.601      0.000       0.140       0.473\n",
       "ar.L1.Close    -0.0315      0.022     -1.433      0.152      -0.074       0.012\n",
       "                                    Roots                                    \n",
       "=============================================================================\n",
       "                  Real          Imaginary           Modulus         Frequency\n",
       "-----------------------------------------------------------------------------\n",
       "AR.1          -31.7891           +0.0000j           31.7891            0.5000\n",
       "-----------------------------------------------------------------------------\n",
       "\"\"\""
      ]
     },
     "execution_count": 36,
     "metadata": {},
     "output_type": "execute_result"
    }
   ],
   "source": [
    "model_ret_ar = ARMA(BTC_returns[1:], order=(1,0))\n",
    "results_ret_ar = model_ret_ar.fit()\n",
    "results_ret_ar.summary()"
   ]
  },
  {
   "cell_type": "code",
   "execution_count": 37,
   "metadata": {},
   "outputs": [
    {
     "data": {
      "text/html": [
       "<table class=\"simpletable\">\n",
       "<caption>ARMA Model Results</caption>\n",
       "<tr>\n",
       "  <th>Dep. Variable:</th>       <td>Close</td>      <th>  No. Observations:  </th>   <td>2073</td>   \n",
       "</tr>\n",
       "<tr>\n",
       "  <th>Model:</th>            <td>ARMA(0, 1)</td>    <th>  Log Likelihood     </th> <td>-5812.155</td>\n",
       "</tr>\n",
       "<tr>\n",
       "  <th>Method:</th>             <td>css-mle</td>     <th>  S.D. of innovations</th>   <td>3.994</td>  \n",
       "</tr>\n",
       "<tr>\n",
       "  <th>Date:</th>          <td>Sat, 02 Oct 2021</td> <th>  AIC                </th> <td>11630.310</td>\n",
       "</tr>\n",
       "<tr>\n",
       "  <th>Time:</th>              <td>18:44:14</td>     <th>  BIC                </th> <td>11647.220</td>\n",
       "</tr>\n",
       "<tr>\n",
       "  <th>Sample:</th>                <td>0</td>        <th>  HQIC               </th> <td>11636.507</td>\n",
       "</tr>\n",
       "<tr>\n",
       "  <th></th>                       <td> </td>        <th>                     </th>     <td> </td>    \n",
       "</tr>\n",
       "</table>\n",
       "<table class=\"simpletable\">\n",
       "<tr>\n",
       "       <td></td>          <th>coef</th>     <th>std err</th>      <th>z</th>      <th>P>|z|</th>  <th>[0.025</th>    <th>0.975]</th>  \n",
       "</tr>\n",
       "<tr>\n",
       "  <th>const</th>       <td>    0.3062</td> <td>    0.085</td> <td>    3.597</td> <td> 0.000</td> <td>    0.139</td> <td>    0.473</td>\n",
       "</tr>\n",
       "<tr>\n",
       "  <th>ma.L1.Close</th> <td>   -0.0296</td> <td>    0.021</td> <td>   -1.391</td> <td> 0.164</td> <td>   -0.071</td> <td>    0.012</td>\n",
       "</tr>\n",
       "</table>\n",
       "<table class=\"simpletable\">\n",
       "<caption>Roots</caption>\n",
       "<tr>\n",
       "    <td></td>   <th>            Real</th>  <th>         Imaginary</th> <th>         Modulus</th>  <th>        Frequency</th>\n",
       "</tr>\n",
       "<tr>\n",
       "  <th>MA.1</th> <td>          33.7660</td> <td>          +0.0000j</td> <td>          33.7660</td> <td>           0.0000</td>\n",
       "</tr>\n",
       "</table>"
      ],
      "text/plain": [
       "<class 'statsmodels.iolib.summary.Summary'>\n",
       "\"\"\"\n",
       "                              ARMA Model Results                              \n",
       "==============================================================================\n",
       "Dep. Variable:                  Close   No. Observations:                 2073\n",
       "Model:                     ARMA(0, 1)   Log Likelihood               -5812.155\n",
       "Method:                       css-mle   S.D. of innovations              3.994\n",
       "Date:                Sat, 02 Oct 2021   AIC                          11630.310\n",
       "Time:                        18:44:14   BIC                          11647.220\n",
       "Sample:                             0   HQIC                         11636.507\n",
       "                                                                              \n",
       "===============================================================================\n",
       "                  coef    std err          z      P>|z|      [0.025      0.975]\n",
       "-------------------------------------------------------------------------------\n",
       "const           0.3062      0.085      3.597      0.000       0.139       0.473\n",
       "ma.L1.Close    -0.0296      0.021     -1.391      0.164      -0.071       0.012\n",
       "                                    Roots                                    \n",
       "=============================================================================\n",
       "                  Real          Imaginary           Modulus         Frequency\n",
       "-----------------------------------------------------------------------------\n",
       "MA.1           33.7660           +0.0000j           33.7660            0.0000\n",
       "-----------------------------------------------------------------------------\n",
       "\"\"\""
      ]
     },
     "execution_count": 37,
     "metadata": {},
     "output_type": "execute_result"
    }
   ],
   "source": [
    "model_ret_ma = ARMA(BTC_returns[1:], order=(0,1))\n",
    "results_ret_ma = model_ret_ma.fit()\n",
    "results_ret_ma.summary()"
   ]
  },
  {
   "cell_type": "code",
   "execution_count": 38,
   "metadata": {},
   "outputs": [
    {
     "data": {
      "text/plain": [
       "1.0"
      ]
     },
     "execution_count": 38,
     "metadata": {},
     "output_type": "execute_result"
    }
   ],
   "source": [
    "LLR_test(model_ret_ar1_ma1,model_ret_ar)"
   ]
  },
  {
   "cell_type": "code",
   "execution_count": 39,
   "metadata": {},
   "outputs": [
    {
     "data": {
      "text/plain": [
       "1.0"
      ]
     },
     "execution_count": 39,
     "metadata": {},
     "output_type": "execute_result"
    }
   ],
   "source": [
    "LLR_test(model_ret_ar1_ma1,model_ret_ma)"
   ]
  },
  {
   "cell_type": "code",
   "execution_count": 40,
   "metadata": {},
   "outputs": [
    {
     "data": {
      "text/plain": [
       "0.729"
      ]
     },
     "execution_count": 40,
     "metadata": {},
     "output_type": "execute_result"
    }
   ],
   "source": [
    "LLR_test(model_ret_ma,model_ret_ar)"
   ]
  },
  {
   "cell_type": "code",
   "execution_count": null,
   "metadata": {},
   "outputs": [],
   "source": []
  }
 ],
 "metadata": {
  "kernelspec": {
   "display_name": "Python 3",
   "language": "python",
   "name": "python3"
  },
  "language_info": {
   "codemirror_mode": {
    "name": "ipython",
    "version": 3
   },
   "file_extension": ".py",
   "mimetype": "text/x-python",
   "name": "python",
   "nbconvert_exporter": "python",
   "pygments_lexer": "ipython3",
   "version": "3.7.3"
  }
 },
 "nbformat": 4,
 "nbformat_minor": 4
}
