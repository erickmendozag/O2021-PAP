{
 "cells": [
  {
   "cell_type": "markdown",
   "id": "b06067d1",
   "metadata": {},
   "source": [
    "<center> <img src=\"http://oci02.img.iteso.mx/identidad_de_instancia_2018/ITESO/Logos%20ITESO/Logo-ITESO-Principal.jpg\" align=\"center\" width=\"960\" height=\"480\"/> </center>"
   ]
  },
  {
   "cell_type": "markdown",
   "id": "0b53cec8",
   "metadata": {},
   "source": [
    "<center><font color=#555555><font size=6> PAP PROGRAMA DE MODELACION MATEMATICA PARA EL DESARROLLO DE PLANES Y PROYECTOS DE NEGOCIO II (O2021_PAP4J05A) </font> <br> <br>\n",
    "    \n",
    "\n",
    "<center><font color=#555555><font size=6> I.F. </font> <br> <br>\n",
    "   \n",
    "<center> <font color= #555555> <font size = 4> Jun 2021 </a> | <font color= #555555> <font size = 4> Repository: <a href='https://github.com/erickmendozag/O2021-PAP'>Link</a></font>"
   ]
  },
  {
   "cell_type": "markdown",
   "id": "5fb8cd8d",
   "metadata": {},
   "source": [
    "<hr style=\"border:0.02in solid gray\"> </hr>"
   ]
  },
  {
   "cell_type": "markdown",
   "id": "b9d46ba7",
   "metadata": {},
   "source": [
    "<center> <font color= #555555> <font size = 6> Borrador </font> <br> <br> <font color= #555555> <font size = 5> Borrador"
   ]
  },
  {
   "cell_type": "markdown",
   "id": "654ee906",
   "metadata": {},
   "source": [
    "<hr style=\"border:0.02in solid gray\"> </hr>"
   ]
  },
  {
   "cell_type": "markdown",
   "id": "3516b009",
   "metadata": {},
   "source": [
    "References : https://github.com/ccxt/ccxt"
   ]
  },
  {
   "cell_type": "code",
   "execution_count": 14,
   "id": "b7ad49ba",
   "metadata": {},
   "outputs": [],
   "source": [
    "# import library\n",
    "import ccxt\n",
    "import os\n",
    "import sys\n",
    "import time\n",
    "import asyncio\n",
    "import asciichartpy \n",
    "from asciichartpy import plot\n",
    "from pprint import pprint\n",
    "import time\n"
   ]
  },
  {
   "cell_type": "markdown",
   "id": "8d851597",
   "metadata": {},
   "source": [
    "### Binance Futures offers access to four product lines:\n",
    "\n",
    "- *USDⓈ-M* futures contracts: supports perpetual and deliverable contracts, settled in USDT or BUSD.\n",
    "\n",
    "\n",
    "- *COIN-M* futures contracts: supports perpetual and delivery contracts, settled in cryptocurrencies.\n",
    "\n",
    "\n",
    "- Binance Leveraged Tokens*: an innovative product that allows users to gain greater exposure to a specific cryptoasset without having to worry about settlement risk.\n",
    "    \n",
    "    \n",
    "- Binance Options*: a product that simplifies options trading for general users. Thanks to the built-in leverage it offers, users can maximize their profits while minimizing downside risk.\n",
    "\n",
    "### Features:\n",
    "\n",
    "- *Cross-collateralization*: an innovative feature that allows users to use their cryptoassets as collateral to borrow another cryptoasset.\n",
    "\n",
    "    \n",
    "- Leaderboard*: a mix between a social network and cryptocurrency trading that allows users to visualize and follow the positions of the best traders on the platform.\n",
    "\n",
    "    \n",
    "- Battle*: the gamification of cryptocurrency trading that pits traders head-to-head in a battle to see who makes the most profit in a given period."
   ]
  },
  {
   "cell_type": "markdown",
   "id": "bc964057",
   "metadata": {},
   "source": [
    "# ccxt"
   ]
  },
  {
   "cell_type": "markdown",
   "id": "becf66dd",
   "metadata": {},
   "source": [
    "The CCXT library is used to connect and trade with cryptocurrency exchanges and payment processing services worldwide. It provides fast access to market data for storage, analysis, visualization, indicator development, algorithmic trading, strategy backtesting, bot programming and related software engineering.\n",
    "\n",
    "It is intended for use by coders, developers, technically savvy traders, data scientists and financial analysts to create trading algorithms."
   ]
  },
  {
   "cell_type": "markdown",
   "id": "df30d9cb",
   "metadata": {},
   "source": [
    "\n",
    "The CCXT library consists of a public and a private part. Anyone can use the public part immediately after installation. The public APIs provide unrestricted access to the public information of all stock exchanges without the need to register a user account or have an API key.\n",
    "\n",
    "\n",
    "Public APIs include the following\n",
    "\n",
    "\n",
    "- market data\n",
    "\n",
    "\n",
    "- trading instruments/pairs\n",
    "\n",
    "\n",
    "- price data (exchange rates)\n",
    "\n",
    "\n",
    "- order books\n",
    "\n",
    "\n",
    "- trade history\n",
    "\n",
    "\n",
    "- tickers\n",
    "\n",
    "\n",
    "- OHLC(V) for charting\n",
    "\n",
    "\n",
    "- other public endpoints\n",
    "\n",
    "Translated with www.DeepL.com/Translator (free version)"
   ]
  },
  {
   "cell_type": "markdown",
   "id": "a3d131c4",
   "metadata": {},
   "source": [
    "## Public API"
   ]
  },
  {
   "cell_type": "markdown",
   "id": "36d237d1",
   "metadata": {},
   "source": [
    "### Order Book"
   ]
  },
  {
   "cell_type": "markdown",
   "id": "e369a273",
   "metadata": {},
   "source": [
    "Exchanges display information about open orders with bid and ask prices, volumes and other data. There is usually a separate end point to view the current status (stack frame) of the order book for a particular market. The order book is also often referred to as market depth. The information in the order book is used in the trading decision making process.\n",
    "\n",
    "The method for obtaining an order book for a particular symbol is called *fetchOrderBook or fetch_order_book*. It accepts a symbol and an optional dictionary with additional parameters (if supported by the exchange). The method to fetch the order book is called as shown below:"
   ]
  },
  {
   "cell_type": "code",
   "execution_count": 15,
   "id": "030834dc",
   "metadata": {},
   "outputs": [
    {
     "data": {
      "text/plain": [
       "{'symbol': 'BTC/USD',\n",
       " 'bids': [[61050.7, 0.04720399],\n",
       "  [61009.8, 0.26924314],\n",
       "  [60934.8, 0.31213919],\n",
       "  [60908.3, 0.01227248],\n",
       "  [60908.2, 0.11127103],\n",
       "  [60907.9, 0.0254],\n",
       "  [60883.0, 0.0773],\n",
       "  [60874.3, 0.1],\n",
       "  [60848.2, 0.35994447],\n",
       "  [60823.3, 0.10617546]],\n",
       " 'asks': [[61057.8, 0.02165039],\n",
       "  [61058.3, 0.6081],\n",
       "  [61060.1, 0.1],\n",
       "  [61061.2, 0.0254],\n",
       "  [61063.1, 0.04719927],\n",
       "  [61094.7, 0.13361109],\n",
       "  [61094.8, 0.0773],\n",
       "  [61103.3, 0.9],\n",
       "  [61104.0, 0.26903584],\n",
       "  [61116.1, 0.10110328]],\n",
       " 'timestamp': 1634410473000,\n",
       " 'datetime': '2021-10-16T18:54:33.000Z',\n",
       " 'nonce': None}"
      ]
     },
     "execution_count": 15,
     "metadata": {},
     "output_type": "execute_result"
    }
   ],
   "source": [
    "# return up to ten bidasks on each side of the order book stack\n",
    "limit = 10\n",
    "ccxt.cex().fetch_order_book('BTC/USD', limit)"
   ]
  },
  {
   "cell_type": "code",
   "execution_count": 2,
   "id": "4ce7cda7",
   "metadata": {},
   "outputs": [
    {
     "name": "stdout",
     "output_type": "stream",
     "text": [
      "['aax', 'aofex', 'ascendex', 'bequant', 'bibox', 'bigone', 'binance', 'binancecoinm', 'binanceus', 'binanceusdm', 'bit2c', 'bitbank', 'bitbay', 'bitbns', 'bitcoincom', 'bitfinex', 'bitfinex2', 'bitflyer', 'bitforex', 'bitget', 'bithumb', 'bitmart', 'bitmex', 'bitpanda', 'bitso', 'bitstamp', 'bitstamp1', 'bittrex', 'bitvavo', 'bitz', 'bl3p', 'braziliex', 'btcalpha', 'btcbox', 'btcmarkets', 'btctradeua', 'btcturk', 'buda', 'bw', 'bybit', 'cdax', 'cex', 'coinbase', 'coinbaseprime', 'coinbasepro', 'coincheck', 'coinegg', 'coinex', 'coinfalcon', 'coinfloor', 'coinmarketcap', 'coinmate', 'coinone', 'coinspot', 'crex24', 'currencycom', 'delta', 'deribit', 'digifinex', 'eqonex', 'equos', 'exmo', 'exx', 'flowbtc', 'ftx', 'gateio', 'gemini', 'hbtc', 'hitbtc', 'hollaex', 'huobi', 'huobijp', 'huobipro', 'idex', 'independentreserve', 'indodax', 'itbit', 'kraken', 'kucoin', 'kuna', 'latoken', 'lbank', 'liquid', 'luno', 'lykke', 'mercado', 'mixcoins', 'ndax', 'novadax', 'oceanex', 'okcoin', 'okex', 'okex3', 'okex5', 'paymium', 'phemex', 'poloniex', 'probit', 'qtrade', 'ripio', 'stex', 'therock', 'tidebit', 'tidex', 'timex', 'upbit', 'vcc', 'wavesexchange', 'whitebit', 'xena', 'yobit', 'zaif', 'zb']\n"
     ]
    }
   ],
   "source": [
    "# print a list of all available exchange classes\n",
    "print(ccxt.exchanges) "
   ]
  },
  {
   "cell_type": "code",
   "execution_count": 3,
   "id": "29cc4fe0",
   "metadata": {},
   "outputs": [
    {
     "name": "stdout",
     "output_type": "stream",
     "text": [
      "BTC/USD\n",
      "BTC/USDT\n",
      "ETH/BTC\n",
      "XRP/BTC\n",
      "BNB/BTC\n",
      "LTC/BTC\n",
      "BCH/BTC\n",
      "BTC/BUSD\n",
      "XTZ/BTC\n",
      "ADA/BTC\n",
      "LINK/BTC\n",
      "VET/BTC\n",
      "UNI/BTC\n",
      "BTC/USDC\n"
     ]
    }
   ],
   "source": [
    "#use a exchange\n",
    "exchange = ccxt.binanceus() #api key and secret key\n",
    "\n",
    "\n",
    "#define market\n",
    "markets = exchange.load_markets()\n",
    "\n",
    "for market in markets:\n",
    "    if 'BTC' in market:\n",
    "        print(market)"
   ]
  },
  {
   "cell_type": "code",
   "execution_count": 4,
   "id": "5993db0d",
   "metadata": {},
   "outputs": [
    {
     "name": "stdout",
     "output_type": "stream",
     "text": [
      "{'symbol': 'BTC/USD', 'timestamp': 1633027017815, 'datetime': '2021-09-30T18:36:57.815Z', 'high': 43825.92, 'low': 40886.31, 'bid': 43450.38, 'bidVolume': 0.006901, 'ask': 43460.0, 'askVolume': 0.181395, 'vwap': 42498.2024, 'open': 41292.04, 'close': 43450.38, 'last': 43450.38, 'previousClose': 41278.16, 'change': 2158.34, 'percentage': 5.227, 'average': None, 'baseVolume': 1491.780573, 'quoteVolume': 63397992.7072, 'info': {'symbol': 'BTCUSD', 'priceChange': '2158.3400', 'priceChangePercent': '5.227', 'weightedAvgPrice': '42498.2024', 'prevClosePrice': '41278.1600', 'lastPrice': '43450.3800', 'lastQty': '0.00088200', 'bidPrice': '43450.3800', 'bidQty': '0.00690100', 'askPrice': '43460.0000', 'askQty': '0.18139500', 'openPrice': '41292.0400', 'highPrice': '43825.9200', 'lowPrice': '40886.3100', 'volume': '1491.78057300', 'quoteVolume': '63397992.7072', 'openTime': '1632940617815', 'closeTime': '1633027017815', 'firstId': '22974368', 'lastId': '23030278', 'count': '55911'}}\n"
     ]
    }
   ],
   "source": [
    "#data for ticker\n",
    "ticker = exchange.fetch_ticker('BTC/USD')\n",
    "print(ticker)"
   ]
  },
  {
   "cell_type": "code",
   "execution_count": 5,
   "id": "cf11d692",
   "metadata": {},
   "outputs": [
    {
     "name": "stdout",
     "output_type": "stream",
     "text": [
      "[1632182400000, 43002.33, 43636.36, 39587.55, 40698.03, 2883.470607]\n",
      "[1632268800000, 40706.06, 44023.21, 40557.14, 43570.0, 1300.181813]\n",
      "[1632355200000, 43570.0, 44998.48, 43096.28, 44889.72, 2067.348438]\n",
      "[1632441600000, 44889.71, 45169.49, 40716.77, 42831.25, 1863.138005]\n",
      "[1632528000000, 42844.49, 42986.56, 41668.63, 42702.82, 1531.120576]\n",
      "[1632614400000, 42695.84, 43957.82, 40192.16, 43216.36, 1119.970708]\n",
      "[1632700800000, 43169.37, 44370.51, 42112.79, 42177.51, 1114.034145]\n",
      "[1632787200000, 42165.34, 42776.79, 40838.73, 41025.86, 1791.724673]\n",
      "[1632873600000, 41018.01, 42597.93, 40758.73, 41521.43, 1079.48151]\n",
      "[1632960000000, 41521.43, 43825.92, 41408.0, 43450.38, 1007.937067]\n"
     ]
    }
   ],
   "source": [
    "#historical data\n",
    "ohlc = exchange.fetch_ohlcv('BTC/USD', timeframe='1d', limit=10)\n",
    "for candle in ohlc:\n",
    "    print(candle)\n",
    "    \n",
    "# put the first number on the link to know the date - https://www.unixtimestamp.com/"
   ]
  },
  {
   "cell_type": "code",
   "execution_count": 1,
   "id": "c68362e3",
   "metadata": {},
   "outputs": [],
   "source": [
    "from math import cos\n",
    "# from math import sin\n",
    "from math import pi\n",
    "from math import floor\n",
    "from math import ceil"
   ]
  },
  {
   "cell_type": "code",
   "execution_count": 6,
   "id": "95a40498",
   "metadata": {
    "scrolled": true
   },
   "outputs": [
    {
     "ename": "NameError",
     "evalue": "name 'exchange' is not defined",
     "output_type": "error",
     "traceback": [
      "\u001b[1;31m---------------------------------------------------------------------------\u001b[0m",
      "\u001b[1;31mNameError\u001b[0m                                 Traceback (most recent call last)",
      "\u001b[1;32m<ipython-input-6-c8120c1ca298>\u001b[0m in \u001b[0;36m<module>\u001b[1;34m\u001b[0m\n\u001b[1;32m----> 1\u001b[1;33m \u001b[0morderbook\u001b[0m \u001b[1;33m=\u001b[0m \u001b[0mexchange\u001b[0m\u001b[1;33m.\u001b[0m\u001b[0mfetch_order_book\u001b[0m \u001b[1;33m(\u001b[0m\u001b[0mexchange\u001b[0m\u001b[1;33m.\u001b[0m\u001b[0msymbols\u001b[0m\u001b[1;33m[\u001b[0m\u001b[1;36m0\u001b[0m\u001b[1;33m]\u001b[0m\u001b[1;33m)\u001b[0m\u001b[1;33m\u001b[0m\u001b[1;33m\u001b[0m\u001b[0m\n\u001b[0m\u001b[0;32m      2\u001b[0m \u001b[0mbid\u001b[0m \u001b[1;33m=\u001b[0m \u001b[0morderbook\u001b[0m\u001b[1;33m[\u001b[0m\u001b[1;34m'bids'\u001b[0m\u001b[1;33m]\u001b[0m\u001b[1;33m[\u001b[0m\u001b[1;36m0\u001b[0m\u001b[1;33m]\u001b[0m\u001b[1;33m[\u001b[0m\u001b[1;36m0\u001b[0m\u001b[1;33m]\u001b[0m \u001b[1;32mif\u001b[0m \u001b[0mlen\u001b[0m \u001b[1;33m(\u001b[0m\u001b[0morderbook\u001b[0m\u001b[1;33m[\u001b[0m\u001b[1;34m'bids'\u001b[0m\u001b[1;33m]\u001b[0m\u001b[1;33m)\u001b[0m \u001b[1;33m>\u001b[0m \u001b[1;36m0\u001b[0m \u001b[1;32melse\u001b[0m \u001b[1;32mNone\u001b[0m\u001b[1;33m\u001b[0m\u001b[1;33m\u001b[0m\u001b[0m\n\u001b[0;32m      3\u001b[0m \u001b[0mask\u001b[0m \u001b[1;33m=\u001b[0m \u001b[0morderbook\u001b[0m\u001b[1;33m[\u001b[0m\u001b[1;34m'asks'\u001b[0m\u001b[1;33m]\u001b[0m\u001b[1;33m[\u001b[0m\u001b[1;36m0\u001b[0m\u001b[1;33m]\u001b[0m\u001b[1;33m[\u001b[0m\u001b[1;36m0\u001b[0m\u001b[1;33m]\u001b[0m \u001b[1;32mif\u001b[0m \u001b[0mlen\u001b[0m \u001b[1;33m(\u001b[0m\u001b[0morderbook\u001b[0m\u001b[1;33m[\u001b[0m\u001b[1;34m'asks'\u001b[0m\u001b[1;33m]\u001b[0m\u001b[1;33m)\u001b[0m \u001b[1;33m>\u001b[0m \u001b[1;36m0\u001b[0m \u001b[1;32melse\u001b[0m \u001b[1;32mNone\u001b[0m\u001b[1;33m\u001b[0m\u001b[1;33m\u001b[0m\u001b[0m\n\u001b[0;32m      4\u001b[0m \u001b[0mspread\u001b[0m \u001b[1;33m=\u001b[0m \u001b[1;33m(\u001b[0m\u001b[0mask\u001b[0m \u001b[1;33m-\u001b[0m \u001b[0mbid\u001b[0m\u001b[1;33m)\u001b[0m \u001b[1;32mif\u001b[0m \u001b[1;33m(\u001b[0m\u001b[0mbid\u001b[0m \u001b[1;32mand\u001b[0m \u001b[0mask\u001b[0m\u001b[1;33m)\u001b[0m \u001b[1;32melse\u001b[0m \u001b[1;32mNone\u001b[0m\u001b[1;33m\u001b[0m\u001b[1;33m\u001b[0m\u001b[0m\n\u001b[0;32m      5\u001b[0m \u001b[0mprint\u001b[0m \u001b[1;33m(\u001b[0m\u001b[0mexchange\u001b[0m\u001b[1;33m.\u001b[0m\u001b[0mid\u001b[0m\u001b[1;33m,\u001b[0m \u001b[1;34m'market price'\u001b[0m\u001b[1;33m,\u001b[0m \u001b[1;33m{\u001b[0m \u001b[1;34m'bid'\u001b[0m\u001b[1;33m:\u001b[0m \u001b[0mbid\u001b[0m\u001b[1;33m,\u001b[0m \u001b[1;34m'ask'\u001b[0m\u001b[1;33m:\u001b[0m \u001b[0mask\u001b[0m\u001b[1;33m,\u001b[0m \u001b[1;34m'spread'\u001b[0m\u001b[1;33m:\u001b[0m \u001b[0mspread\u001b[0m \u001b[1;33m}\u001b[0m\u001b[1;33m)\u001b[0m\u001b[1;33m\u001b[0m\u001b[1;33m\u001b[0m\u001b[0m\n",
      "\u001b[1;31mNameError\u001b[0m: name 'exchange' is not defined"
     ]
    }
   ],
   "source": [
    "orderbook = exchange.fetch_order_book (exchange.symbols[0])\n",
    "bid = orderbook['bids'][0][0] if len (orderbook['bids']) > 0 else None\n",
    "ask = orderbook['asks'][0][0] if len (orderbook['asks']) > 0 else None\n",
    "spread = (ask - bid) if (bid and ask) else None\n",
    "print (exchange.id, 'market price', { 'bid': bid, 'ask': ask, 'spread': spread })"
   ]
  },
  {
   "cell_type": "code",
   "execution_count": 3,
   "id": "13d2cf80",
   "metadata": {},
   "outputs": [],
   "source": [
    "\n",
    "\n",
    "\n",
    "def plot(series, cfg={}):\n",
    "\n",
    "    minimum = min(series)\n",
    "    maximum = max(series)\n",
    "\n",
    "    interval = abs(float(maximum) - float(minimum))\n",
    "    offset = cfg['offset'] if 'offset' in cfg else 3\n",
    "    # padding = cfg['padding'] if 'padding' in cfg else '       '\n",
    "    height = cfg['height'] if 'height' in cfg else interval\n",
    "    ratio = height / interval\n",
    "    # print(minimum,ratio,type(minimum))\n",
    "    min2 = floor(float(minimum) * ratio)\n",
    "    max2 = ceil(float(maximum) * ratio)\n",
    "\n",
    "    intmin2 = int(min2)\n",
    "    intmax2 = int(max2)\n",
    "\n",
    "    rows = abs(intmax2 - intmin2)\n",
    "    width = len(series) + offset\n",
    "    # format = cfg['format'] if 'format' in cfg else lambda x: (padding + '{:.2f}'.format(x))[:-len(padding)]\n",
    "\n",
    "    result = [[' '] * width for i in range(rows + 1)]\n",
    "\n",
    "    # axis and labels\n",
    "    for y in range(intmin2, intmax2 + 1):\n",
    "        label = '{:8.2f}'.format(float(maximum) - ((y - intmin2) * interval / rows))\n",
    "        result[y - intmin2][max(offset - len(label), 0)] = label\n",
    "        result[y - intmin2][offset - 1] = '┼' if y == 0 else '┤'\n",
    "\n",
    "    y0 = int(series[0] * ratio - min2)\n",
    "    result[rows - y0][offset - 1] = '┼'  # first value\n",
    "\n",
    "    for x in range(0, len(series) - 1):  # plot the line\n",
    "        y0 = int(round(series[x + 0] * ratio) - intmin2)\n",
    "        y1 = int(round(series[x + 1] * ratio) - intmin2)\n",
    "        if y0 == y1:\n",
    "            result[rows - y0][x + offset] = '─'\n",
    "        else:\n",
    "            result[rows - y1][x + offset] = '╰' if y0 > y1 else '╭'\n",
    "            result[rows - y0][x + offset] = '╮' if y0 > y1 else '╯'\n",
    "            start = min(y0, y1) + 1\n",
    "            end = max(y0, y1)\n",
    "            for y in range(start, end):\n",
    "                result[rows - y][x + offset] = '│'\n",
    "\n",
    "    return '\\n'.join([''.join(row) for row in result])"
   ]
  },
  {
   "cell_type": "code",
   "execution_count": 11,
   "id": "f072df70",
   "metadata": {},
   "outputs": [
    {
     "ename": "NameError",
     "evalue": "name 'BTCUSD' is not defined",
     "output_type": "error",
     "traceback": [
      "\u001b[1;31m---------------------------------------------------------------------------\u001b[0m",
      "\u001b[1;31mNameError\u001b[0m                                 Traceback (most recent call last)",
      "\u001b[1;32m<ipython-input-11-3399a34b8a65>\u001b[0m in \u001b[0;36m<module>\u001b[1;34m\u001b[0m\n\u001b[1;32m----> 1\u001b[1;33m \u001b[1;32mif\u001b[0m \u001b[0mBTCUSD\u001b[0m \u001b[1;33m==\u001b[0m \u001b[1;34m'BTC/USD'\u001b[0m\u001b[1;33m:\u001b[0m\u001b[1;33m\u001b[0m\u001b[1;33m\u001b[0m\u001b[0m\n\u001b[0m\u001b[0;32m      2\u001b[0m     \u001b[0mwidth\u001b[0m \u001b[1;33m=\u001b[0m \u001b[1;36m180\u001b[0m\u001b[1;33m\u001b[0m\u001b[1;33m\u001b[0m\u001b[0m\n\u001b[0;32m      3\u001b[0m     \u001b[0mseries\u001b[0m \u001b[1;33m=\u001b[0m \u001b[1;33m[\u001b[0m\u001b[1;36m15\u001b[0m \u001b[1;33m*\u001b[0m \u001b[0mcos\u001b[0m\u001b[1;33m(\u001b[0m\u001b[0mi\u001b[0m \u001b[1;33m*\u001b[0m \u001b[1;33m(\u001b[0m\u001b[1;33m(\u001b[0m\u001b[0mpi\u001b[0m \u001b[1;33m*\u001b[0m \u001b[1;36m4\u001b[0m\u001b[1;33m)\u001b[0m \u001b[1;33m/\u001b[0m \u001b[0mwidth\u001b[0m\u001b[1;33m)\u001b[0m\u001b[1;33m)\u001b[0m \u001b[1;32mfor\u001b[0m \u001b[0mi\u001b[0m \u001b[1;32min\u001b[0m \u001b[0mrange\u001b[0m\u001b[1;33m(\u001b[0m\u001b[0mwidth\u001b[0m\u001b[1;33m)\u001b[0m\u001b[1;33m]\u001b[0m\u001b[1;33m\u001b[0m\u001b[1;33m\u001b[0m\u001b[0m\n\u001b[0;32m      4\u001b[0m     \u001b[0mprint\u001b[0m\u001b[1;33m(\u001b[0m\u001b[0mplot\u001b[0m\u001b[1;33m(\u001b[0m\u001b[0mseries\u001b[0m\u001b[1;33m)\u001b[0m\u001b[1;33m)\u001b[0m\u001b[1;33m\u001b[0m\u001b[1;33m\u001b[0m\u001b[0m\n",
      "\u001b[1;31mNameError\u001b[0m: name 'BTCUSD' is not defined"
     ]
    }
   ],
   "source": [
    "if BTCUSD == 'BTC/USD':\n",
    "    width = 180\n",
    "    series = [15 * cos(i * ((pi * 4) / width)) for i in range(width)]\n",
    "    print(plot(series))"
   ]
  },
  {
   "cell_type": "code",
   "execution_count": null,
   "id": "6b8cc32a",
   "metadata": {},
   "outputs": [],
   "source": []
  }
 ],
 "metadata": {
  "kernelspec": {
   "display_name": "Python 3",
   "language": "python",
   "name": "python3"
  },
  "language_info": {
   "codemirror_mode": {
    "name": "ipython",
    "version": 3
   },
   "file_extension": ".py",
   "mimetype": "text/x-python",
   "name": "python",
   "nbconvert_exporter": "python",
   "pygments_lexer": "ipython3",
   "version": "3.8.8"
  }
 },
 "nbformat": 4,
 "nbformat_minor": 5
}
