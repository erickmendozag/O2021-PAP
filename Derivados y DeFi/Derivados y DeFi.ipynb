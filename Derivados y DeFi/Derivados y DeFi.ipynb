{
 "cells": [
  {
   "cell_type": "markdown",
   "id": "b06067d1",
   "metadata": {},
   "source": [
    "<center> <img src=\"http://oci02.img.iteso.mx/identidad_de_instancia_2018/ITESO/Logos%20ITESO/Logo-ITESO-Principal.jpg\" align=\"center\" width=\"960\" height=\"480\"/> </center>"
   ]
  },
  {
   "cell_type": "markdown",
   "id": "0b53cec8",
   "metadata": {},
   "source": [
    "<center><font color=#555555><font size=6> PAP PROGRAMA DE MODELACION MATEMATICA PARA EL DESARROLLO DE PLANES Y PROYECTOS DE NEGOCIO II (O2021_PAP4J05A) </font> <br> <br>\n",
    "    \n",
    "\n",
    "<center><font color=#555555><font size=6> I.F. </font> <br> <br>\n",
    "   \n",
    "<center> <font color= #555555> <font size = 4> Jun 2021 </a> | <font color= #555555> <font size = 4> Repository: <a href='https://github.com/erickmendozag/O2021-PAP'>Link</a></font>"
   ]
  },
  {
   "cell_type": "markdown",
   "id": "5fb8cd8d",
   "metadata": {},
   "source": [
    "<hr style=\"border:0.02in solid gray\"> </hr>"
   ]
  },
  {
   "cell_type": "markdown",
   "id": "b9d46ba7",
   "metadata": {},
   "source": [
    "<center> <font color= #555555> <font size = 6> Borrador </font> <br> <br> <font color= #555555> <font size = 5> Borrador"
   ]
  },
  {
   "cell_type": "markdown",
   "id": "654ee906",
   "metadata": {},
   "source": [
    "<hr style=\"border:0.02in solid gray\"> </hr>"
   ]
  },
  {
   "cell_type": "markdown",
   "id": "3516b009",
   "metadata": {},
   "source": [
    "References : https://github.com/ccxt/ccxt"
   ]
  },
  {
   "cell_type": "code",
   "execution_count": 3,
   "id": "b7ad49ba",
   "metadata": {},
   "outputs": [],
   "source": [
    "# import library\n",
    "import ccxt\n",
    "import os\n",
    "import sys\n",
    "import time\n",
    "import asyncio\n",
    "import asciichartpy \n",
    "from asciichartpy import plot\n",
    "from pprint import pprint"
   ]
  },
  {
   "cell_type": "markdown",
   "id": "cc53959a",
   "metadata": {},
   "source": [
    "### Binance Futures offers access to four product lines:\n",
    "\n",
    "- *USDⓈ-M* futures contracts: supports perpetual and deliverable contracts, settled in USDT or BUSD.\n",
    "\n",
    "\n",
    "- *COIN-M* futures contracts: supports perpetual and delivery contracts, settled in cryptocurrencies.\n",
    "\n",
    "\n",
    "- Binance Leveraged Tokens*: an innovative product that allows users to gain greater exposure to a specific cryptoasset without having to worry about settlement risk.\n",
    "    \n",
    "    \n",
    "- Binance Options*: a product that simplifies options trading for general users. Thanks to the built-in leverage it offers, users can maximize their profits while minimizing downside risk.\n",
    "\n",
    "### Features:\n",
    "\n",
    "- *Cross-collateralization*: an innovative feature that allows users to use their cryptoassets as collateral to borrow another cryptoasset.\n",
    "\n",
    "    \n",
    "- Leaderboard*: a mix between a social network and cryptocurrency trading that allows users to visualize and follow the positions of the best traders on the platform.\n",
    "\n",
    "    \n",
    "- Battle*: the gamification of cryptocurrency trading that pits traders head-to-head in a battle to see who makes the most profit in a given period."
   ]
  },
  {
   "cell_type": "markdown",
   "id": "bc964057",
   "metadata": {},
   "source": [
    "# ccxt"
   ]
  },
  {
   "cell_type": "markdown",
   "id": "becf66dd",
   "metadata": {},
   "source": [
    "The CCXT library is used to connect and trade with cryptocurrency exchanges and payment processing services worldwide. It provides fast access to market data for storage, analysis, visualization, indicator development, algorithmic trading, strategy backtesting, bot programming and related software engineering.\n",
    "\n",
    "It is intended for use by coders, developers, technically savvy traders, data scientists and financial analysts to create trading algorithms."
   ]
  },
  {
   "cell_type": "markdown",
   "id": "df30d9cb",
   "metadata": {},
   "source": [
    "\n",
    "The CCXT library consists of a public and a private part. Anyone can use the public part immediately after installation. The public APIs provide unrestricted access to the public information of all stock exchanges without the need to register a user account or have an API key.\n",
    "\n",
    "\n",
    "Public APIs include the following\n",
    "\n",
    "\n",
    "- market data\n",
    "\n",
    "\n",
    "- trading instruments/pairs\n",
    "\n",
    "\n",
    "- price data (exchange rates)\n",
    "\n",
    "\n",
    "- order books\n",
    "\n",
    "\n",
    "- trade history\n",
    "\n",
    "\n",
    "- tickers\n",
    "\n",
    "\n",
    "- OHLC(V) for charting\n",
    "\n",
    "\n",
    "- other public endpoints\n",
    "\n",
    "Translated with www.DeepL.com/Translator (free version)"
   ]
  },
  {
   "cell_type": "markdown",
   "id": "a3d131c4",
   "metadata": {},
   "source": [
    "## Public API"
   ]
  },
  {
   "cell_type": "markdown",
   "id": "36d237d1",
   "metadata": {},
   "source": [
    "### Order Book"
   ]
  },
  {
   "cell_type": "markdown",
   "id": "e369a273",
   "metadata": {},
   "source": [
    "Exchanges display information about open orders with bid and ask prices, volumes and other data. There is usually a separate end point to view the current status (stack frame) of the order book for a particular market. The order book is also often referred to as market depth. The information in the order book is used in the trading decision making process.\n",
    "\n",
    "The method for obtaining an order book for a particular symbol is called *fetchOrderBook or fetch_order_book*. It accepts a symbol and an optional dictionary with additional parameters (if supported by the exchange). The method to fetch the order book is called as shown below:"
   ]
  },
  {
   "cell_type": "code",
   "execution_count": 12,
   "id": "030834dc",
   "metadata": {},
   "outputs": [
    {
     "data": {
      "text/plain": [
       "{'symbol': 'BTC/USD',\n",
       " 'bids': [[43949.9, 0.05563464],\n",
       "  [43920.6, 0.01913857],\n",
       "  [43920.4, 0.31733007],\n",
       "  [43885.1, 0.60418008],\n",
       "  [43885.0, 0.19722564],\n",
       "  [43884.9, 0.0291],\n",
       "  [43866.4, 0.36788736],\n",
       "  [43862.9, 0.0893],\n",
       "  [43850.5, 0.05],\n",
       "  [43819.3, 0.14510227]],\n",
       " 'asks': [[43958.5, 0.32702],\n",
       "  [43958.7, 0.60418008],\n",
       "  [43958.8, 0.05562907],\n",
       "  [43959.7, 0.22806993],\n",
       "  [43983.0, 0.01332795],\n",
       "  [43983.1, 0.17236294],\n",
       "  [43983.2, 0.0291],\n",
       "  [43984.7, 0.10469536],\n",
       "  [43984.8, 0.05],\n",
       "  [43988.2, 0.31708575]],\n",
       " 'timestamp': 1633028826000,\n",
       " 'datetime': '2021-09-30T19:07:06.000Z',\n",
       " 'nonce': None}"
      ]
     },
     "execution_count": 12,
     "metadata": {},
     "output_type": "execute_result"
    }
   ],
   "source": [
    "# return up to ten bidasks on each side of the order book stack\n",
    "limit = 10\n",
    "ccxt.cex().fetch_order_book('BTC/USD', limit)"
   ]
  },
  {
   "cell_type": "code",
   "execution_count": 13,
   "id": "95a40498",
   "metadata": {},
   "outputs": [
    {
     "name": "stdout",
     "output_type": "stream",
     "text": [
      "binanceus market price {'bid': 276.12, 'ask': 276.59, 'spread': 0.46999999999997044}\n"
     ]
    }
   ],
   "source": [
    "orderbook = exchange.fetch_order_book (exchange.symbols[0])\n",
    "bid = orderbook['bids'][0][0] if len (orderbook['bids']) > 0 else None\n",
    "ask = orderbook['asks'][0][0] if len (orderbook['asks']) > 0 else None\n",
    "spread = (ask - bid) if (bid and ask) else None\n",
    "print (exchange.id, 'market price', { 'bid': bid, 'ask': ask, 'spread': spread })"
   ]
  },
  {
   "cell_type": "code",
   "execution_count": 2,
   "id": "4ce7cda7",
   "metadata": {},
   "outputs": [
    {
     "name": "stdout",
     "output_type": "stream",
     "text": [
      "['aax', 'aofex', 'ascendex', 'bequant', 'bibox', 'bigone', 'binance', 'binancecoinm', 'binanceus', 'binanceusdm', 'bit2c', 'bitbank', 'bitbay', 'bitbns', 'bitcoincom', 'bitfinex', 'bitfinex2', 'bitflyer', 'bitforex', 'bitget', 'bithumb', 'bitmart', 'bitmex', 'bitpanda', 'bitso', 'bitstamp', 'bitstamp1', 'bittrex', 'bitvavo', 'bitz', 'bl3p', 'braziliex', 'btcalpha', 'btcbox', 'btcmarkets', 'btctradeua', 'btcturk', 'buda', 'bw', 'bybit', 'cdax', 'cex', 'coinbase', 'coinbaseprime', 'coinbasepro', 'coincheck', 'coinegg', 'coinex', 'coinfalcon', 'coinfloor', 'coinmarketcap', 'coinmate', 'coinone', 'coinspot', 'crex24', 'currencycom', 'delta', 'deribit', 'digifinex', 'eqonex', 'equos', 'exmo', 'exx', 'flowbtc', 'ftx', 'gateio', 'gemini', 'hbtc', 'hitbtc', 'hollaex', 'huobi', 'huobijp', 'huobipro', 'idex', 'independentreserve', 'indodax', 'itbit', 'kraken', 'kucoin', 'kuna', 'latoken', 'lbank', 'liquid', 'luno', 'lykke', 'mercado', 'mixcoins', 'ndax', 'novadax', 'oceanex', 'okcoin', 'okex', 'okex3', 'okex5', 'paymium', 'phemex', 'poloniex', 'probit', 'qtrade', 'ripio', 'stex', 'therock', 'tidebit', 'tidex', 'timex', 'upbit', 'vcc', 'wavesexchange', 'whitebit', 'xena', 'yobit', 'zaif', 'zb']\n"
     ]
    }
   ],
   "source": [
    "# print a list of all available exchange classes\n",
    "print(ccxt.exchanges) "
   ]
  },
  {
   "cell_type": "code",
   "execution_count": 3,
   "id": "29cc4fe0",
   "metadata": {},
   "outputs": [
    {
     "name": "stdout",
     "output_type": "stream",
     "text": [
      "BTC/USD\n",
      "BTC/USDT\n",
      "ETH/BTC\n",
      "XRP/BTC\n",
      "BNB/BTC\n",
      "LTC/BTC\n",
      "BCH/BTC\n",
      "BTC/BUSD\n",
      "XTZ/BTC\n",
      "ADA/BTC\n",
      "LINK/BTC\n",
      "VET/BTC\n",
      "UNI/BTC\n",
      "BTC/USDC\n"
     ]
    }
   ],
   "source": [
    "#use a exchange\n",
    "exchange = ccxt.binanceus() #api key and secret key\n",
    "\n",
    "\n",
    "#define market\n",
    "markets = exchange.load_markets()\n",
    "\n",
    "for market in markets:\n",
    "    if 'BTC' in market:\n",
    "        print(market)"
   ]
  },
  {
   "cell_type": "code",
   "execution_count": 4,
   "id": "5993db0d",
   "metadata": {},
   "outputs": [
    {
     "name": "stdout",
     "output_type": "stream",
     "text": [
      "{'symbol': 'BTC/USD', 'timestamp': 1633027017815, 'datetime': '2021-09-30T18:36:57.815Z', 'high': 43825.92, 'low': 40886.31, 'bid': 43450.38, 'bidVolume': 0.006901, 'ask': 43460.0, 'askVolume': 0.181395, 'vwap': 42498.2024, 'open': 41292.04, 'close': 43450.38, 'last': 43450.38, 'previousClose': 41278.16, 'change': 2158.34, 'percentage': 5.227, 'average': None, 'baseVolume': 1491.780573, 'quoteVolume': 63397992.7072, 'info': {'symbol': 'BTCUSD', 'priceChange': '2158.3400', 'priceChangePercent': '5.227', 'weightedAvgPrice': '42498.2024', 'prevClosePrice': '41278.1600', 'lastPrice': '43450.3800', 'lastQty': '0.00088200', 'bidPrice': '43450.3800', 'bidQty': '0.00690100', 'askPrice': '43460.0000', 'askQty': '0.18139500', 'openPrice': '41292.0400', 'highPrice': '43825.9200', 'lowPrice': '40886.3100', 'volume': '1491.78057300', 'quoteVolume': '63397992.7072', 'openTime': '1632940617815', 'closeTime': '1633027017815', 'firstId': '22974368', 'lastId': '23030278', 'count': '55911'}}\n"
     ]
    }
   ],
   "source": [
    "#data for ticker\n",
    "ticker = exchange.fetch_ticker('BTC/USD')\n",
    "print(ticker)"
   ]
  },
  {
   "cell_type": "code",
   "execution_count": 5,
   "id": "cf11d692",
   "metadata": {},
   "outputs": [
    {
     "name": "stdout",
     "output_type": "stream",
     "text": [
      "[1632182400000, 43002.33, 43636.36, 39587.55, 40698.03, 2883.470607]\n",
      "[1632268800000, 40706.06, 44023.21, 40557.14, 43570.0, 1300.181813]\n",
      "[1632355200000, 43570.0, 44998.48, 43096.28, 44889.72, 2067.348438]\n",
      "[1632441600000, 44889.71, 45169.49, 40716.77, 42831.25, 1863.138005]\n",
      "[1632528000000, 42844.49, 42986.56, 41668.63, 42702.82, 1531.120576]\n",
      "[1632614400000, 42695.84, 43957.82, 40192.16, 43216.36, 1119.970708]\n",
      "[1632700800000, 43169.37, 44370.51, 42112.79, 42177.51, 1114.034145]\n",
      "[1632787200000, 42165.34, 42776.79, 40838.73, 41025.86, 1791.724673]\n",
      "[1632873600000, 41018.01, 42597.93, 40758.73, 41521.43, 1079.48151]\n",
      "[1632960000000, 41521.43, 43825.92, 41408.0, 43450.38, 1007.937067]\n"
     ]
    }
   ],
   "source": [
    "#historical data\n",
    "ohlc = exchange.fetch_ohlcv('BTC/USD', timeframe='1d', limit=10)\n",
    "for candle in ohlc:\n",
    "    print(candle)\n",
    "    \n",
    "# put the first number on the link to know the date - https://www.unixtimestamp.com/"
   ]
  }
 ],
 "metadata": {
  "kernelspec": {
   "display_name": "Python 3",
   "language": "python",
   "name": "python3"
  },
  "language_info": {
   "codemirror_mode": {
    "name": "ipython",
    "version": 3
   },
   "file_extension": ".py",
   "mimetype": "text/x-python",
   "name": "python",
   "nbconvert_exporter": "python",
   "pygments_lexer": "ipython3",
   "version": "3.8.8"
  }
 },
 "nbformat": 4,
 "nbformat_minor": 5
}
